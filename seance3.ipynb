{
 "cells": [
  {
   "cell_type": "code",
   "execution_count": 1,
   "metadata": {},
   "outputs": [],
   "source": [
    "import pandas as pd\n",
    "import numpy as np\n",
    "import matplotlib.pyplot as plt"
   ]
  },
  {
   "cell_type": "code",
   "execution_count": 2,
   "metadata": {},
   "outputs": [],
   "source": [
    "df=pd.read_csv(\"Churn_Modelling.csv\")"
   ]
  },
  {
   "cell_type": "code",
   "execution_count": 3,
   "metadata": {},
   "outputs": [
    {
     "data": {
      "text/html": [
       "<div>\n",
       "<style scoped>\n",
       "    .dataframe tbody tr th:only-of-type {\n",
       "        vertical-align: middle;\n",
       "    }\n",
       "\n",
       "    .dataframe tbody tr th {\n",
       "        vertical-align: top;\n",
       "    }\n",
       "\n",
       "    .dataframe thead th {\n",
       "        text-align: right;\n",
       "    }\n",
       "</style>\n",
       "<table border=\"1\" class=\"dataframe\">\n",
       "  <thead>\n",
       "    <tr style=\"text-align: right;\">\n",
       "      <th></th>\n",
       "      <th>RowNumber</th>\n",
       "      <th>CustomerId</th>\n",
       "      <th>CreditScore</th>\n",
       "      <th>Age</th>\n",
       "      <th>Tenure</th>\n",
       "      <th>Balance</th>\n",
       "      <th>NumOfProducts</th>\n",
       "      <th>HasCrCard</th>\n",
       "      <th>IsActiveMember</th>\n",
       "      <th>EstimatedSalary</th>\n",
       "      <th>Exited</th>\n",
       "    </tr>\n",
       "  </thead>\n",
       "  <tbody>\n",
       "    <tr>\n",
       "      <th>count</th>\n",
       "      <td>10000.00000</td>\n",
       "      <td>1.000000e+04</td>\n",
       "      <td>10000.000000</td>\n",
       "      <td>10000.000000</td>\n",
       "      <td>10000.000000</td>\n",
       "      <td>10000.000000</td>\n",
       "      <td>10000.000000</td>\n",
       "      <td>10000.00000</td>\n",
       "      <td>10000.000000</td>\n",
       "      <td>10000.000000</td>\n",
       "      <td>10000.000000</td>\n",
       "    </tr>\n",
       "    <tr>\n",
       "      <th>mean</th>\n",
       "      <td>5000.50000</td>\n",
       "      <td>1.569094e+07</td>\n",
       "      <td>650.528800</td>\n",
       "      <td>38.921800</td>\n",
       "      <td>5.012800</td>\n",
       "      <td>76485.889288</td>\n",
       "      <td>1.530200</td>\n",
       "      <td>0.70550</td>\n",
       "      <td>0.515100</td>\n",
       "      <td>100090.239881</td>\n",
       "      <td>0.203700</td>\n",
       "    </tr>\n",
       "    <tr>\n",
       "      <th>std</th>\n",
       "      <td>2886.89568</td>\n",
       "      <td>7.193619e+04</td>\n",
       "      <td>96.653299</td>\n",
       "      <td>10.487806</td>\n",
       "      <td>2.892174</td>\n",
       "      <td>62397.405202</td>\n",
       "      <td>0.581654</td>\n",
       "      <td>0.45584</td>\n",
       "      <td>0.499797</td>\n",
       "      <td>57510.492818</td>\n",
       "      <td>0.402769</td>\n",
       "    </tr>\n",
       "    <tr>\n",
       "      <th>min</th>\n",
       "      <td>1.00000</td>\n",
       "      <td>1.556570e+07</td>\n",
       "      <td>350.000000</td>\n",
       "      <td>18.000000</td>\n",
       "      <td>0.000000</td>\n",
       "      <td>0.000000</td>\n",
       "      <td>1.000000</td>\n",
       "      <td>0.00000</td>\n",
       "      <td>0.000000</td>\n",
       "      <td>11.580000</td>\n",
       "      <td>0.000000</td>\n",
       "    </tr>\n",
       "    <tr>\n",
       "      <th>25%</th>\n",
       "      <td>2500.75000</td>\n",
       "      <td>1.562853e+07</td>\n",
       "      <td>584.000000</td>\n",
       "      <td>32.000000</td>\n",
       "      <td>3.000000</td>\n",
       "      <td>0.000000</td>\n",
       "      <td>1.000000</td>\n",
       "      <td>0.00000</td>\n",
       "      <td>0.000000</td>\n",
       "      <td>51002.110000</td>\n",
       "      <td>0.000000</td>\n",
       "    </tr>\n",
       "    <tr>\n",
       "      <th>50%</th>\n",
       "      <td>5000.50000</td>\n",
       "      <td>1.569074e+07</td>\n",
       "      <td>652.000000</td>\n",
       "      <td>37.000000</td>\n",
       "      <td>5.000000</td>\n",
       "      <td>97198.540000</td>\n",
       "      <td>1.000000</td>\n",
       "      <td>1.00000</td>\n",
       "      <td>1.000000</td>\n",
       "      <td>100193.915000</td>\n",
       "      <td>0.000000</td>\n",
       "    </tr>\n",
       "    <tr>\n",
       "      <th>75%</th>\n",
       "      <td>7500.25000</td>\n",
       "      <td>1.575323e+07</td>\n",
       "      <td>718.000000</td>\n",
       "      <td>44.000000</td>\n",
       "      <td>7.000000</td>\n",
       "      <td>127644.240000</td>\n",
       "      <td>2.000000</td>\n",
       "      <td>1.00000</td>\n",
       "      <td>1.000000</td>\n",
       "      <td>149388.247500</td>\n",
       "      <td>0.000000</td>\n",
       "    </tr>\n",
       "    <tr>\n",
       "      <th>max</th>\n",
       "      <td>10000.00000</td>\n",
       "      <td>1.581569e+07</td>\n",
       "      <td>850.000000</td>\n",
       "      <td>92.000000</td>\n",
       "      <td>10.000000</td>\n",
       "      <td>250898.090000</td>\n",
       "      <td>4.000000</td>\n",
       "      <td>1.00000</td>\n",
       "      <td>1.000000</td>\n",
       "      <td>199992.480000</td>\n",
       "      <td>1.000000</td>\n",
       "    </tr>\n",
       "  </tbody>\n",
       "</table>\n",
       "</div>"
      ],
      "text/plain": [
       "         RowNumber    CustomerId   CreditScore           Age        Tenure  \\\n",
       "count  10000.00000  1.000000e+04  10000.000000  10000.000000  10000.000000   \n",
       "mean    5000.50000  1.569094e+07    650.528800     38.921800      5.012800   \n",
       "std     2886.89568  7.193619e+04     96.653299     10.487806      2.892174   \n",
       "min        1.00000  1.556570e+07    350.000000     18.000000      0.000000   \n",
       "25%     2500.75000  1.562853e+07    584.000000     32.000000      3.000000   \n",
       "50%     5000.50000  1.569074e+07    652.000000     37.000000      5.000000   \n",
       "75%     7500.25000  1.575323e+07    718.000000     44.000000      7.000000   \n",
       "max    10000.00000  1.581569e+07    850.000000     92.000000     10.000000   \n",
       "\n",
       "             Balance  NumOfProducts    HasCrCard  IsActiveMember  \\\n",
       "count   10000.000000   10000.000000  10000.00000    10000.000000   \n",
       "mean    76485.889288       1.530200      0.70550        0.515100   \n",
       "std     62397.405202       0.581654      0.45584        0.499797   \n",
       "min         0.000000       1.000000      0.00000        0.000000   \n",
       "25%         0.000000       1.000000      0.00000        0.000000   \n",
       "50%     97198.540000       1.000000      1.00000        1.000000   \n",
       "75%    127644.240000       2.000000      1.00000        1.000000   \n",
       "max    250898.090000       4.000000      1.00000        1.000000   \n",
       "\n",
       "       EstimatedSalary        Exited  \n",
       "count     10000.000000  10000.000000  \n",
       "mean     100090.239881      0.203700  \n",
       "std       57510.492818      0.402769  \n",
       "min          11.580000      0.000000  \n",
       "25%       51002.110000      0.000000  \n",
       "50%      100193.915000      0.000000  \n",
       "75%      149388.247500      0.000000  \n",
       "max      199992.480000      1.000000  "
      ]
     },
     "execution_count": 3,
     "metadata": {},
     "output_type": "execute_result"
    }
   ],
   "source": [
    "df.describe()"
   ]
  },
  {
   "cell_type": "code",
   "execution_count": 4,
   "metadata": {},
   "outputs": [
    {
     "data": {
      "text/plain": [
       "(10000, 14)"
      ]
     },
     "execution_count": 4,
     "metadata": {},
     "output_type": "execute_result"
    }
   ],
   "source": [
    "df.shape"
   ]
  },
  {
   "cell_type": "markdown",
   "metadata": {},
   "source": [
    "Ona une base de données qui contient 14 parametres et 10000 observations "
   ]
  },
  {
   "cell_type": "code",
   "execution_count": 5,
   "metadata": {},
   "outputs": [
    {
     "data": {
      "text/plain": [
       "RowNumber          0\n",
       "CustomerId         0\n",
       "Surname            0\n",
       "CreditScore        0\n",
       "Geography          0\n",
       "Gender             0\n",
       "Age                0\n",
       "Tenure             0\n",
       "Balance            0\n",
       "NumOfProducts      0\n",
       "HasCrCard          0\n",
       "IsActiveMember     0\n",
       "EstimatedSalary    0\n",
       "Exited             0\n",
       "dtype: int64"
      ]
     },
     "execution_count": 5,
     "metadata": {},
     "output_type": "execute_result"
    }
   ],
   "source": [
    "df.isna().sum()"
   ]
  },
  {
   "cell_type": "markdown",
   "metadata": {},
   "source": [
    "Ona pas de valeure nulle dans notre base "
   ]
  },
  {
   "cell_type": "code",
   "execution_count": 6,
   "metadata": {},
   "outputs": [
    {
     "data": {
      "text/plain": [
       "0"
      ]
     },
     "execution_count": 6,
     "metadata": {},
     "output_type": "execute_result"
    }
   ],
   "source": [
    "df.duplicated().sum()"
   ]
  },
  {
   "cell_type": "markdown",
   "metadata": {},
   "source": [
    "Ona pas de valeure dupliqué "
   ]
  },
  {
   "cell_type": "code",
   "execution_count": 7,
   "metadata": {},
   "outputs": [
    {
     "data": {
      "text/html": [
       "<div>\n",
       "<style scoped>\n",
       "    .dataframe tbody tr th:only-of-type {\n",
       "        vertical-align: middle;\n",
       "    }\n",
       "\n",
       "    .dataframe tbody tr th {\n",
       "        vertical-align: top;\n",
       "    }\n",
       "\n",
       "    .dataframe thead th {\n",
       "        text-align: right;\n",
       "    }\n",
       "</style>\n",
       "<table border=\"1\" class=\"dataframe\">\n",
       "  <thead>\n",
       "    <tr style=\"text-align: right;\">\n",
       "      <th></th>\n",
       "      <th>CreditScore</th>\n",
       "      <th>Age</th>\n",
       "      <th>Tenure</th>\n",
       "      <th>Balance</th>\n",
       "      <th>NumOfProducts</th>\n",
       "      <th>HasCrCard</th>\n",
       "      <th>IsActiveMember</th>\n",
       "      <th>EstimatedSalary</th>\n",
       "      <th>Exited</th>\n",
       "    </tr>\n",
       "  </thead>\n",
       "  <tbody>\n",
       "    <tr>\n",
       "      <th>CreditScore</th>\n",
       "      <td>1.000000</td>\n",
       "      <td>-0.003965</td>\n",
       "      <td>0.000842</td>\n",
       "      <td>0.006268</td>\n",
       "      <td>0.012238</td>\n",
       "      <td>-0.005458</td>\n",
       "      <td>0.025651</td>\n",
       "      <td>-0.001384</td>\n",
       "      <td>-0.027094</td>\n",
       "    </tr>\n",
       "    <tr>\n",
       "      <th>Age</th>\n",
       "      <td>-0.003965</td>\n",
       "      <td>1.000000</td>\n",
       "      <td>-0.009997</td>\n",
       "      <td>0.028308</td>\n",
       "      <td>-0.030680</td>\n",
       "      <td>-0.011721</td>\n",
       "      <td>0.085472</td>\n",
       "      <td>-0.007201</td>\n",
       "      <td>0.285323</td>\n",
       "    </tr>\n",
       "    <tr>\n",
       "      <th>Tenure</th>\n",
       "      <td>0.000842</td>\n",
       "      <td>-0.009997</td>\n",
       "      <td>1.000000</td>\n",
       "      <td>-0.012254</td>\n",
       "      <td>0.013444</td>\n",
       "      <td>0.022583</td>\n",
       "      <td>-0.028362</td>\n",
       "      <td>0.007784</td>\n",
       "      <td>-0.014001</td>\n",
       "    </tr>\n",
       "    <tr>\n",
       "      <th>Balance</th>\n",
       "      <td>0.006268</td>\n",
       "      <td>0.028308</td>\n",
       "      <td>-0.012254</td>\n",
       "      <td>1.000000</td>\n",
       "      <td>-0.304180</td>\n",
       "      <td>-0.014858</td>\n",
       "      <td>-0.010084</td>\n",
       "      <td>0.012797</td>\n",
       "      <td>0.118533</td>\n",
       "    </tr>\n",
       "    <tr>\n",
       "      <th>NumOfProducts</th>\n",
       "      <td>0.012238</td>\n",
       "      <td>-0.030680</td>\n",
       "      <td>0.013444</td>\n",
       "      <td>-0.304180</td>\n",
       "      <td>1.000000</td>\n",
       "      <td>0.003183</td>\n",
       "      <td>0.009612</td>\n",
       "      <td>0.014204</td>\n",
       "      <td>-0.047820</td>\n",
       "    </tr>\n",
       "    <tr>\n",
       "      <th>HasCrCard</th>\n",
       "      <td>-0.005458</td>\n",
       "      <td>-0.011721</td>\n",
       "      <td>0.022583</td>\n",
       "      <td>-0.014858</td>\n",
       "      <td>0.003183</td>\n",
       "      <td>1.000000</td>\n",
       "      <td>-0.011866</td>\n",
       "      <td>-0.009933</td>\n",
       "      <td>-0.007138</td>\n",
       "    </tr>\n",
       "    <tr>\n",
       "      <th>IsActiveMember</th>\n",
       "      <td>0.025651</td>\n",
       "      <td>0.085472</td>\n",
       "      <td>-0.028362</td>\n",
       "      <td>-0.010084</td>\n",
       "      <td>0.009612</td>\n",
       "      <td>-0.011866</td>\n",
       "      <td>1.000000</td>\n",
       "      <td>-0.011421</td>\n",
       "      <td>-0.156128</td>\n",
       "    </tr>\n",
       "    <tr>\n",
       "      <th>EstimatedSalary</th>\n",
       "      <td>-0.001384</td>\n",
       "      <td>-0.007201</td>\n",
       "      <td>0.007784</td>\n",
       "      <td>0.012797</td>\n",
       "      <td>0.014204</td>\n",
       "      <td>-0.009933</td>\n",
       "      <td>-0.011421</td>\n",
       "      <td>1.000000</td>\n",
       "      <td>0.012097</td>\n",
       "    </tr>\n",
       "    <tr>\n",
       "      <th>Exited</th>\n",
       "      <td>-0.027094</td>\n",
       "      <td>0.285323</td>\n",
       "      <td>-0.014001</td>\n",
       "      <td>0.118533</td>\n",
       "      <td>-0.047820</td>\n",
       "      <td>-0.007138</td>\n",
       "      <td>-0.156128</td>\n",
       "      <td>0.012097</td>\n",
       "      <td>1.000000</td>\n",
       "    </tr>\n",
       "  </tbody>\n",
       "</table>\n",
       "</div>"
      ],
      "text/plain": [
       "                 CreditScore       Age    Tenure   Balance  NumOfProducts  \\\n",
       "CreditScore         1.000000 -0.003965  0.000842  0.006268       0.012238   \n",
       "Age                -0.003965  1.000000 -0.009997  0.028308      -0.030680   \n",
       "Tenure              0.000842 -0.009997  1.000000 -0.012254       0.013444   \n",
       "Balance             0.006268  0.028308 -0.012254  1.000000      -0.304180   \n",
       "NumOfProducts       0.012238 -0.030680  0.013444 -0.304180       1.000000   \n",
       "HasCrCard          -0.005458 -0.011721  0.022583 -0.014858       0.003183   \n",
       "IsActiveMember      0.025651  0.085472 -0.028362 -0.010084       0.009612   \n",
       "EstimatedSalary    -0.001384 -0.007201  0.007784  0.012797       0.014204   \n",
       "Exited             -0.027094  0.285323 -0.014001  0.118533      -0.047820   \n",
       "\n",
       "                 HasCrCard  IsActiveMember  EstimatedSalary    Exited  \n",
       "CreditScore      -0.005458        0.025651        -0.001384 -0.027094  \n",
       "Age              -0.011721        0.085472        -0.007201  0.285323  \n",
       "Tenure            0.022583       -0.028362         0.007784 -0.014001  \n",
       "Balance          -0.014858       -0.010084         0.012797  0.118533  \n",
       "NumOfProducts     0.003183        0.009612         0.014204 -0.047820  \n",
       "HasCrCard         1.000000       -0.011866        -0.009933 -0.007138  \n",
       "IsActiveMember   -0.011866        1.000000        -0.011421 -0.156128  \n",
       "EstimatedSalary  -0.009933       -0.011421         1.000000  0.012097  \n",
       "Exited           -0.007138       -0.156128         0.012097  1.000000  "
      ]
     },
     "execution_count": 7,
     "metadata": {},
     "output_type": "execute_result"
    }
   ],
   "source": [
    "import seaborn as sb\n",
    "df=df.iloc[:,3:]\n",
    "c=df.corr(method=\"pearson\")\n",
    "c"
   ]
  },
  {
   "cell_type": "markdown",
   "metadata": {},
   "source": [
    "On peut bien distiguer qu'on a pas de forte correlation entre les parametres pour cela on va garder tout les paramétres pour le moment"
   ]
  },
  {
   "cell_type": "code",
   "execution_count": 8,
   "metadata": {},
   "outputs": [],
   "source": [
    "from sklearn.model_selection import train_test_split"
   ]
  },
  {
   "cell_type": "code",
   "execution_count": 9,
   "metadata": {},
   "outputs": [],
   "source": [
    "x=df.iloc[:,:-1]"
   ]
  },
  {
   "cell_type": "code",
   "execution_count": 10,
   "metadata": {},
   "outputs": [
    {
     "data": {
      "text/html": [
       "<div>\n",
       "<style scoped>\n",
       "    .dataframe tbody tr th:only-of-type {\n",
       "        vertical-align: middle;\n",
       "    }\n",
       "\n",
       "    .dataframe tbody tr th {\n",
       "        vertical-align: top;\n",
       "    }\n",
       "\n",
       "    .dataframe thead th {\n",
       "        text-align: right;\n",
       "    }\n",
       "</style>\n",
       "<table border=\"1\" class=\"dataframe\">\n",
       "  <thead>\n",
       "    <tr style=\"text-align: right;\">\n",
       "      <th></th>\n",
       "      <th>CreditScore</th>\n",
       "      <th>Geography</th>\n",
       "      <th>Gender</th>\n",
       "      <th>Age</th>\n",
       "      <th>Tenure</th>\n",
       "      <th>Balance</th>\n",
       "      <th>NumOfProducts</th>\n",
       "      <th>HasCrCard</th>\n",
       "      <th>IsActiveMember</th>\n",
       "      <th>EstimatedSalary</th>\n",
       "    </tr>\n",
       "  </thead>\n",
       "  <tbody>\n",
       "    <tr>\n",
       "      <th>0</th>\n",
       "      <td>619</td>\n",
       "      <td>France</td>\n",
       "      <td>Female</td>\n",
       "      <td>42</td>\n",
       "      <td>2</td>\n",
       "      <td>0.00</td>\n",
       "      <td>1</td>\n",
       "      <td>1</td>\n",
       "      <td>1</td>\n",
       "      <td>101348.88</td>\n",
       "    </tr>\n",
       "    <tr>\n",
       "      <th>1</th>\n",
       "      <td>608</td>\n",
       "      <td>Spain</td>\n",
       "      <td>Female</td>\n",
       "      <td>41</td>\n",
       "      <td>1</td>\n",
       "      <td>83807.86</td>\n",
       "      <td>1</td>\n",
       "      <td>0</td>\n",
       "      <td>1</td>\n",
       "      <td>112542.58</td>\n",
       "    </tr>\n",
       "    <tr>\n",
       "      <th>2</th>\n",
       "      <td>502</td>\n",
       "      <td>France</td>\n",
       "      <td>Female</td>\n",
       "      <td>42</td>\n",
       "      <td>8</td>\n",
       "      <td>159660.80</td>\n",
       "      <td>3</td>\n",
       "      <td>1</td>\n",
       "      <td>0</td>\n",
       "      <td>113931.57</td>\n",
       "    </tr>\n",
       "    <tr>\n",
       "      <th>3</th>\n",
       "      <td>699</td>\n",
       "      <td>France</td>\n",
       "      <td>Female</td>\n",
       "      <td>39</td>\n",
       "      <td>1</td>\n",
       "      <td>0.00</td>\n",
       "      <td>2</td>\n",
       "      <td>0</td>\n",
       "      <td>0</td>\n",
       "      <td>93826.63</td>\n",
       "    </tr>\n",
       "    <tr>\n",
       "      <th>4</th>\n",
       "      <td>850</td>\n",
       "      <td>Spain</td>\n",
       "      <td>Female</td>\n",
       "      <td>43</td>\n",
       "      <td>2</td>\n",
       "      <td>125510.82</td>\n",
       "      <td>1</td>\n",
       "      <td>1</td>\n",
       "      <td>1</td>\n",
       "      <td>79084.10</td>\n",
       "    </tr>\n",
       "    <tr>\n",
       "      <th>...</th>\n",
       "      <td>...</td>\n",
       "      <td>...</td>\n",
       "      <td>...</td>\n",
       "      <td>...</td>\n",
       "      <td>...</td>\n",
       "      <td>...</td>\n",
       "      <td>...</td>\n",
       "      <td>...</td>\n",
       "      <td>...</td>\n",
       "      <td>...</td>\n",
       "    </tr>\n",
       "    <tr>\n",
       "      <th>9995</th>\n",
       "      <td>771</td>\n",
       "      <td>France</td>\n",
       "      <td>Male</td>\n",
       "      <td>39</td>\n",
       "      <td>5</td>\n",
       "      <td>0.00</td>\n",
       "      <td>2</td>\n",
       "      <td>1</td>\n",
       "      <td>0</td>\n",
       "      <td>96270.64</td>\n",
       "    </tr>\n",
       "    <tr>\n",
       "      <th>9996</th>\n",
       "      <td>516</td>\n",
       "      <td>France</td>\n",
       "      <td>Male</td>\n",
       "      <td>35</td>\n",
       "      <td>10</td>\n",
       "      <td>57369.61</td>\n",
       "      <td>1</td>\n",
       "      <td>1</td>\n",
       "      <td>1</td>\n",
       "      <td>101699.77</td>\n",
       "    </tr>\n",
       "    <tr>\n",
       "      <th>9997</th>\n",
       "      <td>709</td>\n",
       "      <td>France</td>\n",
       "      <td>Female</td>\n",
       "      <td>36</td>\n",
       "      <td>7</td>\n",
       "      <td>0.00</td>\n",
       "      <td>1</td>\n",
       "      <td>0</td>\n",
       "      <td>1</td>\n",
       "      <td>42085.58</td>\n",
       "    </tr>\n",
       "    <tr>\n",
       "      <th>9998</th>\n",
       "      <td>772</td>\n",
       "      <td>Germany</td>\n",
       "      <td>Male</td>\n",
       "      <td>42</td>\n",
       "      <td>3</td>\n",
       "      <td>75075.31</td>\n",
       "      <td>2</td>\n",
       "      <td>1</td>\n",
       "      <td>0</td>\n",
       "      <td>92888.52</td>\n",
       "    </tr>\n",
       "    <tr>\n",
       "      <th>9999</th>\n",
       "      <td>792</td>\n",
       "      <td>France</td>\n",
       "      <td>Female</td>\n",
       "      <td>28</td>\n",
       "      <td>4</td>\n",
       "      <td>130142.79</td>\n",
       "      <td>1</td>\n",
       "      <td>1</td>\n",
       "      <td>0</td>\n",
       "      <td>38190.78</td>\n",
       "    </tr>\n",
       "  </tbody>\n",
       "</table>\n",
       "<p>10000 rows × 10 columns</p>\n",
       "</div>"
      ],
      "text/plain": [
       "      CreditScore Geography  Gender  Age  Tenure    Balance  NumOfProducts  \\\n",
       "0             619    France  Female   42       2       0.00              1   \n",
       "1             608     Spain  Female   41       1   83807.86              1   \n",
       "2             502    France  Female   42       8  159660.80              3   \n",
       "3             699    France  Female   39       1       0.00              2   \n",
       "4             850     Spain  Female   43       2  125510.82              1   \n",
       "...           ...       ...     ...  ...     ...        ...            ...   \n",
       "9995          771    France    Male   39       5       0.00              2   \n",
       "9996          516    France    Male   35      10   57369.61              1   \n",
       "9997          709    France  Female   36       7       0.00              1   \n",
       "9998          772   Germany    Male   42       3   75075.31              2   \n",
       "9999          792    France  Female   28       4  130142.79              1   \n",
       "\n",
       "      HasCrCard  IsActiveMember  EstimatedSalary  \n",
       "0             1               1        101348.88  \n",
       "1             0               1        112542.58  \n",
       "2             1               0        113931.57  \n",
       "3             0               0         93826.63  \n",
       "4             1               1         79084.10  \n",
       "...         ...             ...              ...  \n",
       "9995          1               0         96270.64  \n",
       "9996          1               1        101699.77  \n",
       "9997          0               1         42085.58  \n",
       "9998          1               0         92888.52  \n",
       "9999          1               0         38190.78  \n",
       "\n",
       "[10000 rows x 10 columns]"
      ]
     },
     "execution_count": 10,
     "metadata": {},
     "output_type": "execute_result"
    }
   ],
   "source": [
    "x"
   ]
  },
  {
   "cell_type": "code",
   "execution_count": 11,
   "metadata": {},
   "outputs": [],
   "source": [
    "y=df.iloc[:,-1]"
   ]
  },
  {
   "cell_type": "code",
   "execution_count": 12,
   "metadata": {},
   "outputs": [
    {
     "data": {
      "text/plain": [
       "0       1\n",
       "1       0\n",
       "2       1\n",
       "3       0\n",
       "4       0\n",
       "       ..\n",
       "9995    0\n",
       "9996    0\n",
       "9997    1\n",
       "9998    1\n",
       "9999    0\n",
       "Name: Exited, Length: 10000, dtype: int64"
      ]
     },
     "execution_count": 12,
     "metadata": {},
     "output_type": "execute_result"
    }
   ],
   "source": [
    "y"
   ]
  },
  {
   "cell_type": "code",
   "execution_count": 13,
   "metadata": {},
   "outputs": [],
   "source": [
    "x=pd.get_dummies(x, drop_first=True)"
   ]
  },
  {
   "cell_type": "markdown",
   "metadata": {},
   "source": [
    "Ona deux parametres catégoriques qui sont geographie et gender pour cela on doit les transformés en valeures numérique à l'aide du getdummies"
   ]
  },
  {
   "cell_type": "code",
   "execution_count": 14,
   "metadata": {},
   "outputs": [
    {
     "data": {
      "text/html": [
       "<div>\n",
       "<style scoped>\n",
       "    .dataframe tbody tr th:only-of-type {\n",
       "        vertical-align: middle;\n",
       "    }\n",
       "\n",
       "    .dataframe tbody tr th {\n",
       "        vertical-align: top;\n",
       "    }\n",
       "\n",
       "    .dataframe thead th {\n",
       "        text-align: right;\n",
       "    }\n",
       "</style>\n",
       "<table border=\"1\" class=\"dataframe\">\n",
       "  <thead>\n",
       "    <tr style=\"text-align: right;\">\n",
       "      <th></th>\n",
       "      <th>CreditScore</th>\n",
       "      <th>Age</th>\n",
       "      <th>Tenure</th>\n",
       "      <th>Balance</th>\n",
       "      <th>NumOfProducts</th>\n",
       "      <th>HasCrCard</th>\n",
       "      <th>IsActiveMember</th>\n",
       "      <th>EstimatedSalary</th>\n",
       "      <th>Geography_Germany</th>\n",
       "      <th>Geography_Spain</th>\n",
       "      <th>Gender_Male</th>\n",
       "    </tr>\n",
       "  </thead>\n",
       "  <tbody>\n",
       "    <tr>\n",
       "      <th>0</th>\n",
       "      <td>619</td>\n",
       "      <td>42</td>\n",
       "      <td>2</td>\n",
       "      <td>0.00</td>\n",
       "      <td>1</td>\n",
       "      <td>1</td>\n",
       "      <td>1</td>\n",
       "      <td>101348.88</td>\n",
       "      <td>0</td>\n",
       "      <td>0</td>\n",
       "      <td>0</td>\n",
       "    </tr>\n",
       "    <tr>\n",
       "      <th>1</th>\n",
       "      <td>608</td>\n",
       "      <td>41</td>\n",
       "      <td>1</td>\n",
       "      <td>83807.86</td>\n",
       "      <td>1</td>\n",
       "      <td>0</td>\n",
       "      <td>1</td>\n",
       "      <td>112542.58</td>\n",
       "      <td>0</td>\n",
       "      <td>1</td>\n",
       "      <td>0</td>\n",
       "    </tr>\n",
       "    <tr>\n",
       "      <th>2</th>\n",
       "      <td>502</td>\n",
       "      <td>42</td>\n",
       "      <td>8</td>\n",
       "      <td>159660.80</td>\n",
       "      <td>3</td>\n",
       "      <td>1</td>\n",
       "      <td>0</td>\n",
       "      <td>113931.57</td>\n",
       "      <td>0</td>\n",
       "      <td>0</td>\n",
       "      <td>0</td>\n",
       "    </tr>\n",
       "    <tr>\n",
       "      <th>3</th>\n",
       "      <td>699</td>\n",
       "      <td>39</td>\n",
       "      <td>1</td>\n",
       "      <td>0.00</td>\n",
       "      <td>2</td>\n",
       "      <td>0</td>\n",
       "      <td>0</td>\n",
       "      <td>93826.63</td>\n",
       "      <td>0</td>\n",
       "      <td>0</td>\n",
       "      <td>0</td>\n",
       "    </tr>\n",
       "    <tr>\n",
       "      <th>4</th>\n",
       "      <td>850</td>\n",
       "      <td>43</td>\n",
       "      <td>2</td>\n",
       "      <td>125510.82</td>\n",
       "      <td>1</td>\n",
       "      <td>1</td>\n",
       "      <td>1</td>\n",
       "      <td>79084.10</td>\n",
       "      <td>0</td>\n",
       "      <td>1</td>\n",
       "      <td>0</td>\n",
       "    </tr>\n",
       "    <tr>\n",
       "      <th>...</th>\n",
       "      <td>...</td>\n",
       "      <td>...</td>\n",
       "      <td>...</td>\n",
       "      <td>...</td>\n",
       "      <td>...</td>\n",
       "      <td>...</td>\n",
       "      <td>...</td>\n",
       "      <td>...</td>\n",
       "      <td>...</td>\n",
       "      <td>...</td>\n",
       "      <td>...</td>\n",
       "    </tr>\n",
       "    <tr>\n",
       "      <th>9995</th>\n",
       "      <td>771</td>\n",
       "      <td>39</td>\n",
       "      <td>5</td>\n",
       "      <td>0.00</td>\n",
       "      <td>2</td>\n",
       "      <td>1</td>\n",
       "      <td>0</td>\n",
       "      <td>96270.64</td>\n",
       "      <td>0</td>\n",
       "      <td>0</td>\n",
       "      <td>1</td>\n",
       "    </tr>\n",
       "    <tr>\n",
       "      <th>9996</th>\n",
       "      <td>516</td>\n",
       "      <td>35</td>\n",
       "      <td>10</td>\n",
       "      <td>57369.61</td>\n",
       "      <td>1</td>\n",
       "      <td>1</td>\n",
       "      <td>1</td>\n",
       "      <td>101699.77</td>\n",
       "      <td>0</td>\n",
       "      <td>0</td>\n",
       "      <td>1</td>\n",
       "    </tr>\n",
       "    <tr>\n",
       "      <th>9997</th>\n",
       "      <td>709</td>\n",
       "      <td>36</td>\n",
       "      <td>7</td>\n",
       "      <td>0.00</td>\n",
       "      <td>1</td>\n",
       "      <td>0</td>\n",
       "      <td>1</td>\n",
       "      <td>42085.58</td>\n",
       "      <td>0</td>\n",
       "      <td>0</td>\n",
       "      <td>0</td>\n",
       "    </tr>\n",
       "    <tr>\n",
       "      <th>9998</th>\n",
       "      <td>772</td>\n",
       "      <td>42</td>\n",
       "      <td>3</td>\n",
       "      <td>75075.31</td>\n",
       "      <td>2</td>\n",
       "      <td>1</td>\n",
       "      <td>0</td>\n",
       "      <td>92888.52</td>\n",
       "      <td>1</td>\n",
       "      <td>0</td>\n",
       "      <td>1</td>\n",
       "    </tr>\n",
       "    <tr>\n",
       "      <th>9999</th>\n",
       "      <td>792</td>\n",
       "      <td>28</td>\n",
       "      <td>4</td>\n",
       "      <td>130142.79</td>\n",
       "      <td>1</td>\n",
       "      <td>1</td>\n",
       "      <td>0</td>\n",
       "      <td>38190.78</td>\n",
       "      <td>0</td>\n",
       "      <td>0</td>\n",
       "      <td>0</td>\n",
       "    </tr>\n",
       "  </tbody>\n",
       "</table>\n",
       "<p>10000 rows × 11 columns</p>\n",
       "</div>"
      ],
      "text/plain": [
       "      CreditScore  Age  Tenure    Balance  NumOfProducts  HasCrCard  \\\n",
       "0             619   42       2       0.00              1          1   \n",
       "1             608   41       1   83807.86              1          0   \n",
       "2             502   42       8  159660.80              3          1   \n",
       "3             699   39       1       0.00              2          0   \n",
       "4             850   43       2  125510.82              1          1   \n",
       "...           ...  ...     ...        ...            ...        ...   \n",
       "9995          771   39       5       0.00              2          1   \n",
       "9996          516   35      10   57369.61              1          1   \n",
       "9997          709   36       7       0.00              1          0   \n",
       "9998          772   42       3   75075.31              2          1   \n",
       "9999          792   28       4  130142.79              1          1   \n",
       "\n",
       "      IsActiveMember  EstimatedSalary  Geography_Germany  Geography_Spain  \\\n",
       "0                  1        101348.88                  0                0   \n",
       "1                  1        112542.58                  0                1   \n",
       "2                  0        113931.57                  0                0   \n",
       "3                  0         93826.63                  0                0   \n",
       "4                  1         79084.10                  0                1   \n",
       "...              ...              ...                ...              ...   \n",
       "9995               0         96270.64                  0                0   \n",
       "9996               1        101699.77                  0                0   \n",
       "9997               1         42085.58                  0                0   \n",
       "9998               0         92888.52                  1                0   \n",
       "9999               0         38190.78                  0                0   \n",
       "\n",
       "      Gender_Male  \n",
       "0               0  \n",
       "1               0  \n",
       "2               0  \n",
       "3               0  \n",
       "4               0  \n",
       "...           ...  \n",
       "9995            1  \n",
       "9996            1  \n",
       "9997            0  \n",
       "9998            1  \n",
       "9999            0  \n",
       "\n",
       "[10000 rows x 11 columns]"
      ]
     },
     "execution_count": 14,
     "metadata": {},
     "output_type": "execute_result"
    }
   ],
   "source": [
    "x"
   ]
  },
  {
   "cell_type": "code",
   "execution_count": 15,
   "metadata": {},
   "outputs": [],
   "source": [
    "x_train, x_test, y_train, y_test=train_test_split(x,y,random_state=0,train_size=0.8,test_size=0.2)"
   ]
  },
  {
   "cell_type": "code",
   "execution_count": 16,
   "metadata": {},
   "outputs": [
    {
     "data": {
      "text/html": [
       "<div>\n",
       "<style scoped>\n",
       "    .dataframe tbody tr th:only-of-type {\n",
       "        vertical-align: middle;\n",
       "    }\n",
       "\n",
       "    .dataframe tbody tr th {\n",
       "        vertical-align: top;\n",
       "    }\n",
       "\n",
       "    .dataframe thead th {\n",
       "        text-align: right;\n",
       "    }\n",
       "</style>\n",
       "<table border=\"1\" class=\"dataframe\">\n",
       "  <thead>\n",
       "    <tr style=\"text-align: right;\">\n",
       "      <th></th>\n",
       "      <th>CreditScore</th>\n",
       "      <th>Age</th>\n",
       "      <th>Tenure</th>\n",
       "      <th>Balance</th>\n",
       "      <th>NumOfProducts</th>\n",
       "      <th>HasCrCard</th>\n",
       "      <th>IsActiveMember</th>\n",
       "      <th>EstimatedSalary</th>\n",
       "      <th>Geography_Germany</th>\n",
       "      <th>Geography_Spain</th>\n",
       "      <th>Gender_Male</th>\n",
       "    </tr>\n",
       "  </thead>\n",
       "  <tbody>\n",
       "    <tr>\n",
       "      <th>7389</th>\n",
       "      <td>0.169582</td>\n",
       "      <td>-0.464608</td>\n",
       "      <td>0.006661</td>\n",
       "      <td>-1.215717</td>\n",
       "      <td>0.809503</td>\n",
       "      <td>1</td>\n",
       "      <td>0</td>\n",
       "      <td>1.106432</td>\n",
       "      <td>0</td>\n",
       "      <td>1</td>\n",
       "      <td>0</td>\n",
       "    </tr>\n",
       "    <tr>\n",
       "      <th>9275</th>\n",
       "      <td>-2.304559</td>\n",
       "      <td>0.301026</td>\n",
       "      <td>-1.377440</td>\n",
       "      <td>-0.006312</td>\n",
       "      <td>-0.921591</td>\n",
       "      <td>1</td>\n",
       "      <td>1</td>\n",
       "      <td>-0.748664</td>\n",
       "      <td>1</td>\n",
       "      <td>0</td>\n",
       "      <td>1</td>\n",
       "    </tr>\n",
       "    <tr>\n",
       "      <th>2995</th>\n",
       "      <td>-1.191196</td>\n",
       "      <td>-0.943129</td>\n",
       "      <td>-1.031415</td>\n",
       "      <td>0.579935</td>\n",
       "      <td>-0.921591</td>\n",
       "      <td>1</td>\n",
       "      <td>0</td>\n",
       "      <td>1.485335</td>\n",
       "      <td>0</td>\n",
       "      <td>0</td>\n",
       "      <td>0</td>\n",
       "    </tr>\n",
       "    <tr>\n",
       "      <th>5316</th>\n",
       "      <td>0.035566</td>\n",
       "      <td>0.109617</td>\n",
       "      <td>0.006661</td>\n",
       "      <td>0.473128</td>\n",
       "      <td>-0.921591</td>\n",
       "      <td>1</td>\n",
       "      <td>0</td>\n",
       "      <td>1.276528</td>\n",
       "      <td>0</td>\n",
       "      <td>1</td>\n",
       "      <td>1</td>\n",
       "    </tr>\n",
       "    <tr>\n",
       "      <th>356</th>\n",
       "      <td>2.056114</td>\n",
       "      <td>1.736588</td>\n",
       "      <td>1.044737</td>\n",
       "      <td>0.810193</td>\n",
       "      <td>0.809503</td>\n",
       "      <td>1</td>\n",
       "      <td>1</td>\n",
       "      <td>0.558378</td>\n",
       "      <td>0</td>\n",
       "      <td>1</td>\n",
       "      <td>0</td>\n",
       "    </tr>\n",
       "    <tr>\n",
       "      <th>...</th>\n",
       "      <td>...</td>\n",
       "      <td>...</td>\n",
       "      <td>...</td>\n",
       "      <td>...</td>\n",
       "      <td>...</td>\n",
       "      <td>...</td>\n",
       "      <td>...</td>\n",
       "      <td>...</td>\n",
       "      <td>...</td>\n",
       "      <td>...</td>\n",
       "      <td>...</td>\n",
       "    </tr>\n",
       "    <tr>\n",
       "      <th>9225</th>\n",
       "      <td>-0.582970</td>\n",
       "      <td>-0.656016</td>\n",
       "      <td>-0.339364</td>\n",
       "      <td>0.703104</td>\n",
       "      <td>0.809503</td>\n",
       "      <td>1</td>\n",
       "      <td>1</td>\n",
       "      <td>1.091330</td>\n",
       "      <td>1</td>\n",
       "      <td>0</td>\n",
       "      <td>0</td>\n",
       "    </tr>\n",
       "    <tr>\n",
       "      <th>4859</th>\n",
       "      <td>1.478815</td>\n",
       "      <td>-1.613058</td>\n",
       "      <td>-0.339364</td>\n",
       "      <td>0.613060</td>\n",
       "      <td>-0.921591</td>\n",
       "      <td>1</td>\n",
       "      <td>1</td>\n",
       "      <td>0.131760</td>\n",
       "      <td>0</td>\n",
       "      <td>1</td>\n",
       "      <td>0</td>\n",
       "    </tr>\n",
       "    <tr>\n",
       "      <th>3264</th>\n",
       "      <td>0.901515</td>\n",
       "      <td>-0.368904</td>\n",
       "      <td>0.006661</td>\n",
       "      <td>1.361474</td>\n",
       "      <td>0.809503</td>\n",
       "      <td>1</td>\n",
       "      <td>0</td>\n",
       "      <td>1.412320</td>\n",
       "      <td>0</td>\n",
       "      <td>0</td>\n",
       "      <td>1</td>\n",
       "    </tr>\n",
       "    <tr>\n",
       "      <th>9845</th>\n",
       "      <td>-0.624205</td>\n",
       "      <td>-0.081791</td>\n",
       "      <td>1.390762</td>\n",
       "      <td>-1.215717</td>\n",
       "      <td>0.809503</td>\n",
       "      <td>1</td>\n",
       "      <td>1</td>\n",
       "      <td>0.844321</td>\n",
       "      <td>0</td>\n",
       "      <td>1</td>\n",
       "      <td>0</td>\n",
       "    </tr>\n",
       "    <tr>\n",
       "      <th>2732</th>\n",
       "      <td>-0.284011</td>\n",
       "      <td>0.875251</td>\n",
       "      <td>-1.377440</td>\n",
       "      <td>0.511364</td>\n",
       "      <td>-0.921591</td>\n",
       "      <td>1</td>\n",
       "      <td>0</td>\n",
       "      <td>0.324725</td>\n",
       "      <td>1</td>\n",
       "      <td>0</td>\n",
       "      <td>0</td>\n",
       "    </tr>\n",
       "  </tbody>\n",
       "</table>\n",
       "<p>8000 rows × 11 columns</p>\n",
       "</div>"
      ],
      "text/plain": [
       "      CreditScore       Age    Tenure   Balance  NumOfProducts  HasCrCard  \\\n",
       "7389     0.169582 -0.464608  0.006661 -1.215717       0.809503          1   \n",
       "9275    -2.304559  0.301026 -1.377440 -0.006312      -0.921591          1   \n",
       "2995    -1.191196 -0.943129 -1.031415  0.579935      -0.921591          1   \n",
       "5316     0.035566  0.109617  0.006661  0.473128      -0.921591          1   \n",
       "356      2.056114  1.736588  1.044737  0.810193       0.809503          1   \n",
       "...           ...       ...       ...       ...            ...        ...   \n",
       "9225    -0.582970 -0.656016 -0.339364  0.703104       0.809503          1   \n",
       "4859     1.478815 -1.613058 -0.339364  0.613060      -0.921591          1   \n",
       "3264     0.901515 -0.368904  0.006661  1.361474       0.809503          1   \n",
       "9845    -0.624205 -0.081791  1.390762 -1.215717       0.809503          1   \n",
       "2732    -0.284011  0.875251 -1.377440  0.511364      -0.921591          1   \n",
       "\n",
       "      IsActiveMember  EstimatedSalary  Geography_Germany  Geography_Spain  \\\n",
       "7389               0         1.106432                  0                1   \n",
       "9275               1        -0.748664                  1                0   \n",
       "2995               0         1.485335                  0                0   \n",
       "5316               0         1.276528                  0                1   \n",
       "356                1         0.558378                  0                1   \n",
       "...              ...              ...                ...              ...   \n",
       "9225               1         1.091330                  1                0   \n",
       "4859               1         0.131760                  0                1   \n",
       "3264               0         1.412320                  0                0   \n",
       "9845               1         0.844321                  0                1   \n",
       "2732               0         0.324725                  1                0   \n",
       "\n",
       "      Gender_Male  \n",
       "7389            0  \n",
       "9275            1  \n",
       "2995            0  \n",
       "5316            1  \n",
       "356             0  \n",
       "...           ...  \n",
       "9225            0  \n",
       "4859            0  \n",
       "3264            1  \n",
       "9845            0  \n",
       "2732            0  \n",
       "\n",
       "[8000 rows x 11 columns]"
      ]
     },
     "execution_count": 16,
     "metadata": {},
     "output_type": "execute_result"
    }
   ],
   "source": [
    "from sklearn.preprocessing import StandardScaler\n",
    "sc=StandardScaler()\n",
    "sc.fit(x_train.loc[:,[\"CreditScore\",\"Age\",\"Tenure\",\"Balance\",\"NumOfProducts\",\"EstimatedSalary\"]])\n",
    "x_train.loc[:,[\"CreditScore\",\"Age\",\"Tenure\",\"Balance\",\"NumOfProducts\",\"EstimatedSalary\"]]=sc.transform(x_train.loc[:,[\"CreditScore\",\"Age\",\"Tenure\",\"Balance\",\"NumOfProducts\",\"EstimatedSalary\"]])\n",
    "x_train"
   ]
  },
  {
   "cell_type": "markdown",
   "metadata": {},
   "source": [
    "On remarque que les paramétres HasCrCard et IsActiveMember sont dans [0,1] donc on le doit pas faire un feature scaling pour cela ona utiliser la fonction loc et ona eliminer ces deux paramétres "
   ]
  },
  {
   "cell_type": "code",
   "execution_count": 17,
   "metadata": {},
   "outputs": [
    {
     "data": {
      "text/html": [
       "<div>\n",
       "<style scoped>\n",
       "    .dataframe tbody tr th:only-of-type {\n",
       "        vertical-align: middle;\n",
       "    }\n",
       "\n",
       "    .dataframe tbody tr th {\n",
       "        vertical-align: top;\n",
       "    }\n",
       "\n",
       "    .dataframe thead th {\n",
       "        text-align: right;\n",
       "    }\n",
       "</style>\n",
       "<table border=\"1\" class=\"dataframe\">\n",
       "  <thead>\n",
       "    <tr style=\"text-align: right;\">\n",
       "      <th></th>\n",
       "      <th>CreditScore</th>\n",
       "      <th>Age</th>\n",
       "      <th>Tenure</th>\n",
       "      <th>Balance</th>\n",
       "      <th>NumOfProducts</th>\n",
       "      <th>HasCrCard</th>\n",
       "      <th>IsActiveMember</th>\n",
       "      <th>EstimatedSalary</th>\n",
       "      <th>Geography_Germany</th>\n",
       "      <th>Geography_Spain</th>\n",
       "      <th>Gender_Male</th>\n",
       "    </tr>\n",
       "  </thead>\n",
       "  <tbody>\n",
       "    <tr>\n",
       "      <th>9394</th>\n",
       "      <td>-0.552043</td>\n",
       "      <td>-0.368904</td>\n",
       "      <td>1.044737</td>\n",
       "      <td>0.879303</td>\n",
       "      <td>-0.921591</td>\n",
       "      <td>1</td>\n",
       "      <td>1</td>\n",
       "      <td>1.610857</td>\n",
       "      <td>1</td>\n",
       "      <td>0</td>\n",
       "      <td>0</td>\n",
       "    </tr>\n",
       "    <tr>\n",
       "      <th>898</th>\n",
       "      <td>-1.314903</td>\n",
       "      <td>0.109617</td>\n",
       "      <td>-1.031415</td>\n",
       "      <td>0.429722</td>\n",
       "      <td>-0.921591</td>\n",
       "      <td>1</td>\n",
       "      <td>0</td>\n",
       "      <td>0.495870</td>\n",
       "      <td>0</td>\n",
       "      <td>0</td>\n",
       "      <td>0</td>\n",
       "    </tr>\n",
       "    <tr>\n",
       "      <th>2398</th>\n",
       "      <td>0.571630</td>\n",
       "      <td>0.301026</td>\n",
       "      <td>1.044737</td>\n",
       "      <td>0.308583</td>\n",
       "      <td>-0.921591</td>\n",
       "      <td>1</td>\n",
       "      <td>1</td>\n",
       "      <td>-0.424787</td>\n",
       "      <td>0</td>\n",
       "      <td>1</td>\n",
       "      <td>0</td>\n",
       "    </tr>\n",
       "    <tr>\n",
       "      <th>5906</th>\n",
       "      <td>1.416961</td>\n",
       "      <td>-0.656016</td>\n",
       "      <td>-0.339364</td>\n",
       "      <td>0.575336</td>\n",
       "      <td>-0.921591</td>\n",
       "      <td>0</td>\n",
       "      <td>0</td>\n",
       "      <td>-0.187777</td>\n",
       "      <td>0</td>\n",
       "      <td>0</td>\n",
       "      <td>1</td>\n",
       "    </tr>\n",
       "    <tr>\n",
       "      <th>2343</th>\n",
       "      <td>0.571630</td>\n",
       "      <td>-0.081791</td>\n",
       "      <td>0.006661</td>\n",
       "      <td>1.389611</td>\n",
       "      <td>0.809503</td>\n",
       "      <td>1</td>\n",
       "      <td>1</td>\n",
       "      <td>0.616842</td>\n",
       "      <td>1</td>\n",
       "      <td>0</td>\n",
       "      <td>1</td>\n",
       "    </tr>\n",
       "    <tr>\n",
       "      <th>...</th>\n",
       "      <td>...</td>\n",
       "      <td>...</td>\n",
       "      <td>...</td>\n",
       "      <td>...</td>\n",
       "      <td>...</td>\n",
       "      <td>...</td>\n",
       "      <td>...</td>\n",
       "      <td>...</td>\n",
       "      <td>...</td>\n",
       "      <td>...</td>\n",
       "      <td>...</td>\n",
       "    </tr>\n",
       "    <tr>\n",
       "      <th>1037</th>\n",
       "      <td>-0.263393</td>\n",
       "      <td>-1.421650</td>\n",
       "      <td>-1.377440</td>\n",
       "      <td>-1.215717</td>\n",
       "      <td>0.809503</td>\n",
       "      <td>1</td>\n",
       "      <td>1</td>\n",
       "      <td>1.404319</td>\n",
       "      <td>0</td>\n",
       "      <td>0</td>\n",
       "      <td>0</td>\n",
       "    </tr>\n",
       "    <tr>\n",
       "      <th>2899</th>\n",
       "      <td>-0.665441</td>\n",
       "      <td>-0.368904</td>\n",
       "      <td>0.698712</td>\n",
       "      <td>-1.215717</td>\n",
       "      <td>0.809503</td>\n",
       "      <td>1</td>\n",
       "      <td>0</td>\n",
       "      <td>-0.511196</td>\n",
       "      <td>0</td>\n",
       "      <td>0</td>\n",
       "      <td>0</td>\n",
       "    </tr>\n",
       "    <tr>\n",
       "      <th>9549</th>\n",
       "      <td>-0.747912</td>\n",
       "      <td>-0.273200</td>\n",
       "      <td>-1.377440</td>\n",
       "      <td>1.297455</td>\n",
       "      <td>0.809503</td>\n",
       "      <td>1</td>\n",
       "      <td>0</td>\n",
       "      <td>0.718885</td>\n",
       "      <td>0</td>\n",
       "      <td>1</td>\n",
       "      <td>1</td>\n",
       "    </tr>\n",
       "    <tr>\n",
       "      <th>2740</th>\n",
       "      <td>-0.005670</td>\n",
       "      <td>-0.464608</td>\n",
       "      <td>-0.339364</td>\n",
       "      <td>1.059752</td>\n",
       "      <td>-0.921591</td>\n",
       "      <td>1</td>\n",
       "      <td>1</td>\n",
       "      <td>-1.545078</td>\n",
       "      <td>1</td>\n",
       "      <td>0</td>\n",
       "      <td>1</td>\n",
       "    </tr>\n",
       "    <tr>\n",
       "      <th>6690</th>\n",
       "      <td>-0.799457</td>\n",
       "      <td>-0.847425</td>\n",
       "      <td>1.044737</td>\n",
       "      <td>0.820263</td>\n",
       "      <td>-0.921591</td>\n",
       "      <td>1</td>\n",
       "      <td>0</td>\n",
       "      <td>1.612559</td>\n",
       "      <td>1</td>\n",
       "      <td>0</td>\n",
       "      <td>1</td>\n",
       "    </tr>\n",
       "  </tbody>\n",
       "</table>\n",
       "<p>2000 rows × 11 columns</p>\n",
       "</div>"
      ],
      "text/plain": [
       "      CreditScore       Age    Tenure   Balance  NumOfProducts  HasCrCard  \\\n",
       "9394    -0.552043 -0.368904  1.044737  0.879303      -0.921591          1   \n",
       "898     -1.314903  0.109617 -1.031415  0.429722      -0.921591          1   \n",
       "2398     0.571630  0.301026  1.044737  0.308583      -0.921591          1   \n",
       "5906     1.416961 -0.656016 -0.339364  0.575336      -0.921591          0   \n",
       "2343     0.571630 -0.081791  0.006661  1.389611       0.809503          1   \n",
       "...           ...       ...       ...       ...            ...        ...   \n",
       "1037    -0.263393 -1.421650 -1.377440 -1.215717       0.809503          1   \n",
       "2899    -0.665441 -0.368904  0.698712 -1.215717       0.809503          1   \n",
       "9549    -0.747912 -0.273200 -1.377440  1.297455       0.809503          1   \n",
       "2740    -0.005670 -0.464608 -0.339364  1.059752      -0.921591          1   \n",
       "6690    -0.799457 -0.847425  1.044737  0.820263      -0.921591          1   \n",
       "\n",
       "      IsActiveMember  EstimatedSalary  Geography_Germany  Geography_Spain  \\\n",
       "9394               1         1.610857                  1                0   \n",
       "898                0         0.495870                  0                0   \n",
       "2398               1        -0.424787                  0                1   \n",
       "5906               0        -0.187777                  0                0   \n",
       "2343               1         0.616842                  1                0   \n",
       "...              ...              ...                ...              ...   \n",
       "1037               1         1.404319                  0                0   \n",
       "2899               0        -0.511196                  0                0   \n",
       "9549               0         0.718885                  0                1   \n",
       "2740               1        -1.545078                  1                0   \n",
       "6690               0         1.612559                  1                0   \n",
       "\n",
       "      Gender_Male  \n",
       "9394            0  \n",
       "898             0  \n",
       "2398            0  \n",
       "5906            1  \n",
       "2343            1  \n",
       "...           ...  \n",
       "1037            0  \n",
       "2899            0  \n",
       "9549            1  \n",
       "2740            1  \n",
       "6690            1  \n",
       "\n",
       "[2000 rows x 11 columns]"
      ]
     },
     "execution_count": 17,
     "metadata": {},
     "output_type": "execute_result"
    }
   ],
   "source": [
    "x_test.loc[:,[\"CreditScore\",\"Age\",\"Tenure\",\"Balance\",\"NumOfProducts\",\"EstimatedSalary\"]]=sc.transform(x_test.loc[:,[\"CreditScore\",\"Age\",\"Tenure\",\"Balance\",\"NumOfProducts\",\"EstimatedSalary\"]])\n",
    "x_test"
   ]
  },
  {
   "cell_type": "code",
   "execution_count": 18,
   "metadata": {},
   "outputs": [
    {
     "data": {
      "text/plain": [
       "9394    0\n",
       "898     1\n",
       "2398    0\n",
       "5906    0\n",
       "2343    0\n",
       "       ..\n",
       "1037    0\n",
       "2899    0\n",
       "9549    0\n",
       "2740    0\n",
       "6690    0\n",
       "Name: Exited, Length: 2000, dtype: int64"
      ]
     },
     "execution_count": 18,
     "metadata": {},
     "output_type": "execute_result"
    }
   ],
   "source": [
    "y_test"
   ]
  },
  {
   "cell_type": "code",
   "execution_count": 19,
   "metadata": {},
   "outputs": [
    {
     "data": {
      "text/plain": [
       "0    1595\n",
       "1     405\n",
       "Name: Exited, dtype: int64"
      ]
     },
     "execution_count": 19,
     "metadata": {},
     "output_type": "execute_result"
    }
   ],
   "source": [
    "y_test.value_counts()\n"
   ]
  },
  {
   "cell_type": "markdown",
   "metadata": {},
   "source": [
    "Ona 1595 observation qui ont données 0 comme sortie contre 405 observation qui ont données 1"
   ]
  },
  {
   "cell_type": "code",
   "execution_count": 20,
   "metadata": {},
   "outputs": [
    {
     "data": {
      "text/plain": [
       "0.7975"
      ]
     },
     "execution_count": 20,
     "metadata": {},
     "output_type": "execute_result"
    }
   ],
   "source": [
    "null_accuracy=(1595/(1595+405))\n",
    "null_accuracy"
   ]
  },
  {
   "cell_type": "markdown",
   "metadata": {},
   "source": [
    "le nul accurancy est tout simplement la probabilité d'appartenance de la resultat au classe des 0."
   ]
  },
  {
   "cell_type": "code",
   "execution_count": 21,
   "metadata": {},
   "outputs": [],
   "source": [
    "from sklearn.linear_model import LogisticRegression\n",
    "from sklearn.metrics import classification_report, confusion_matrix,plot_confusion_matrix\n",
    "model = LogisticRegression(solver='liblinear', random_state=0)"
   ]
  },
  {
   "cell_type": "markdown",
   "metadata": {},
   "source": [
    "Ona faire monter un modela de regression lpgistque "
   ]
  },
  {
   "cell_type": "code",
   "execution_count": 22,
   "metadata": {},
   "outputs": [
    {
     "data": {
      "text/html": [
       "<style>#sk-container-id-1 {color: black;background-color: white;}#sk-container-id-1 pre{padding: 0;}#sk-container-id-1 div.sk-toggleable {background-color: white;}#sk-container-id-1 label.sk-toggleable__label {cursor: pointer;display: block;width: 100%;margin-bottom: 0;padding: 0.3em;box-sizing: border-box;text-align: center;}#sk-container-id-1 label.sk-toggleable__label-arrow:before {content: \"▸\";float: left;margin-right: 0.25em;color: #696969;}#sk-container-id-1 label.sk-toggleable__label-arrow:hover:before {color: black;}#sk-container-id-1 div.sk-estimator:hover label.sk-toggleable__label-arrow:before {color: black;}#sk-container-id-1 div.sk-toggleable__content {max-height: 0;max-width: 0;overflow: hidden;text-align: left;background-color: #f0f8ff;}#sk-container-id-1 div.sk-toggleable__content pre {margin: 0.2em;color: black;border-radius: 0.25em;background-color: #f0f8ff;}#sk-container-id-1 input.sk-toggleable__control:checked~div.sk-toggleable__content {max-height: 200px;max-width: 100%;overflow: auto;}#sk-container-id-1 input.sk-toggleable__control:checked~label.sk-toggleable__label-arrow:before {content: \"▾\";}#sk-container-id-1 div.sk-estimator input.sk-toggleable__control:checked~label.sk-toggleable__label {background-color: #d4ebff;}#sk-container-id-1 div.sk-label input.sk-toggleable__control:checked~label.sk-toggleable__label {background-color: #d4ebff;}#sk-container-id-1 input.sk-hidden--visually {border: 0;clip: rect(1px 1px 1px 1px);clip: rect(1px, 1px, 1px, 1px);height: 1px;margin: -1px;overflow: hidden;padding: 0;position: absolute;width: 1px;}#sk-container-id-1 div.sk-estimator {font-family: monospace;background-color: #f0f8ff;border: 1px dotted black;border-radius: 0.25em;box-sizing: border-box;margin-bottom: 0.5em;}#sk-container-id-1 div.sk-estimator:hover {background-color: #d4ebff;}#sk-container-id-1 div.sk-parallel-item::after {content: \"\";width: 100%;border-bottom: 1px solid gray;flex-grow: 1;}#sk-container-id-1 div.sk-label:hover label.sk-toggleable__label {background-color: #d4ebff;}#sk-container-id-1 div.sk-serial::before {content: \"\";position: absolute;border-left: 1px solid gray;box-sizing: border-box;top: 0;bottom: 0;left: 50%;z-index: 0;}#sk-container-id-1 div.sk-serial {display: flex;flex-direction: column;align-items: center;background-color: white;padding-right: 0.2em;padding-left: 0.2em;position: relative;}#sk-container-id-1 div.sk-item {position: relative;z-index: 1;}#sk-container-id-1 div.sk-parallel {display: flex;align-items: stretch;justify-content: center;background-color: white;position: relative;}#sk-container-id-1 div.sk-item::before, #sk-container-id-1 div.sk-parallel-item::before {content: \"\";position: absolute;border-left: 1px solid gray;box-sizing: border-box;top: 0;bottom: 0;left: 50%;z-index: -1;}#sk-container-id-1 div.sk-parallel-item {display: flex;flex-direction: column;z-index: 1;position: relative;background-color: white;}#sk-container-id-1 div.sk-parallel-item:first-child::after {align-self: flex-end;width: 50%;}#sk-container-id-1 div.sk-parallel-item:last-child::after {align-self: flex-start;width: 50%;}#sk-container-id-1 div.sk-parallel-item:only-child::after {width: 0;}#sk-container-id-1 div.sk-dashed-wrapped {border: 1px dashed gray;margin: 0 0.4em 0.5em 0.4em;box-sizing: border-box;padding-bottom: 0.4em;background-color: white;}#sk-container-id-1 div.sk-label label {font-family: monospace;font-weight: bold;display: inline-block;line-height: 1.2em;}#sk-container-id-1 div.sk-label-container {text-align: center;}#sk-container-id-1 div.sk-container {/* jupyter's `normalize.less` sets `[hidden] { display: none; }` but bootstrap.min.css set `[hidden] { display: none !important; }` so we also need the `!important` here to be able to override the default hidden behavior on the sphinx rendered scikit-learn.org. See: https://github.com/scikit-learn/scikit-learn/issues/21755 */display: inline-block !important;position: relative;}#sk-container-id-1 div.sk-text-repr-fallback {display: none;}</style><div id=\"sk-container-id-1\" class=\"sk-top-container\"><div class=\"sk-text-repr-fallback\"><pre>LogisticRegression(random_state=0, solver=&#x27;liblinear&#x27;)</pre><b>In a Jupyter environment, please rerun this cell to show the HTML representation or trust the notebook. <br />On GitHub, the HTML representation is unable to render, please try loading this page with nbviewer.org.</b></div><div class=\"sk-container\" hidden><div class=\"sk-item\"><div class=\"sk-estimator sk-toggleable\"><input class=\"sk-toggleable__control sk-hidden--visually\" id=\"sk-estimator-id-1\" type=\"checkbox\" checked><label for=\"sk-estimator-id-1\" class=\"sk-toggleable__label sk-toggleable__label-arrow\">LogisticRegression</label><div class=\"sk-toggleable__content\"><pre>LogisticRegression(random_state=0, solver=&#x27;liblinear&#x27;)</pre></div></div></div></div></div>"
      ],
      "text/plain": [
       "LogisticRegression(random_state=0, solver='liblinear')"
      ]
     },
     "execution_count": 22,
     "metadata": {},
     "output_type": "execute_result"
    }
   ],
   "source": [
    "model.fit(x_train, y_train)"
   ]
  },
  {
   "cell_type": "code",
   "execution_count": 23,
   "metadata": {},
   "outputs": [
    {
     "data": {
      "text/plain": [
       "array([[-0.07225624,  0.75118518, -0.08120735,  0.15447859, -0.08441644,\n",
       "        -0.05485789, -1.03502961,  0.02917924,  0.82097643,  0.10753487,\n",
       "        -0.54071955]])"
      ]
     },
     "execution_count": 23,
     "metadata": {},
     "output_type": "execute_result"
    }
   ],
   "source": [
    "model.coef_"
   ]
  },
  {
   "cell_type": "code",
   "execution_count": 24,
   "metadata": {},
   "outputs": [],
   "source": [
    "y_pred=model.predict(x_test)"
   ]
  },
  {
   "cell_type": "code",
   "execution_count": 25,
   "metadata": {},
   "outputs": [
    {
     "data": {
      "text/plain": [
       "array([[1526,   69],\n",
       "       [ 309,   96]], dtype=int64)"
      ]
     },
     "execution_count": 25,
     "metadata": {},
     "output_type": "execute_result"
    }
   ],
   "source": [
    "confusion_matrix(y_test,y_pred)"
   ]
  },
  {
   "cell_type": "code",
   "execution_count": 26,
   "metadata": {},
   "outputs": [
    {
     "name": "stderr",
     "output_type": "stream",
     "text": [
      "c:\\Users\\amria\\AppData\\Local\\Programs\\Python\\Python310\\lib\\site-packages\\sklearn\\utils\\deprecation.py:87: FutureWarning: Function plot_confusion_matrix is deprecated; Function `plot_confusion_matrix` is deprecated in 1.0 and will be removed in 1.2. Use one of the class methods: ConfusionMatrixDisplay.from_predictions or ConfusionMatrixDisplay.from_estimator.\n",
      "  warnings.warn(msg, category=FutureWarning)\n"
     ]
    },
    {
     "data": {
      "text/plain": [
       "<sklearn.metrics._plot.confusion_matrix.ConfusionMatrixDisplay at 0x1f248fd0160>"
      ]
     },
     "execution_count": 26,
     "metadata": {},
     "output_type": "execute_result"
    },
    {
     "data": {
      "image/png": "[encoded data removed]",
      "text/plain": [
       "<Figure size 432x288 with 2 Axes>"
      ]
     },
     "metadata": {
      "needs_background": "light"
     },
     "output_type": "display_data"
    }
   ],
   "source": [
    "plot_confusion_matrix(model,x_test,y_test)"
   ]
  },
  {
   "cell_type": "code",
   "execution_count": 27,
   "metadata": {},
   "outputs": [],
   "source": [
    "y_pred_new_threshold = (model.predict_proba(x_test)[:,1]>=0.6)"
   ]
  },
  {
   "cell_type": "markdown",
   "metadata": {},
   "source": [
    "Ona faire changer le seuil "
   ]
  },
  {
   "cell_type": "code",
   "execution_count": 28,
   "metadata": {},
   "outputs": [
    {
     "data": {
      "text/plain": [
       "array([[1567,   28],\n",
       "       [ 353,   52]], dtype=int64)"
      ]
     },
     "execution_count": 28,
     "metadata": {},
     "output_type": "execute_result"
    }
   ],
   "source": [
    "confusion_matrix(y_test,y_pred_new_threshold)"
   ]
  },
  {
   "cell_type": "markdown",
   "metadata": {},
   "source": [
    "On constate que la matrice de confusion est changée"
   ]
  },
  {
   "cell_type": "code",
   "execution_count": 29,
   "metadata": {},
   "outputs": [
    {
     "data": {
      "image/png": "[encoded data removed]",
      "text/plain": [
       "<Figure size 432x288 with 1 Axes>"
      ]
     },
     "metadata": {
      "needs_background": "light"
     },
     "output_type": "display_data"
    }
   ],
   "source": [
    "from sklearn.metrics import roc_curve,plot_roc_curve\n",
    "fpr_array, tpr_array, threshold_array = roc_curve(\n",
    "    y_true=y_test, y_score=model.predict_proba(x_test)[:,1]\n",
    "   \n",
    ")\n",
    "y_score1=model.predict_proba(x_test)[:,1]\n",
    "plt.plot(fpr_array, tpr_array)\n",
    "plt.show()"
   ]
  },
  {
   "cell_type": "code",
   "execution_count": 30,
   "metadata": {},
   "outputs": [
    {
     "name": "stdout",
     "output_type": "stream",
     "text": [
      "[1.90440674 0.90440674 0.83724494 0.83566437 0.83225898 0.81733699\n",
      " 0.8111137  0.81100892 0.78412494 0.78195398 0.75031823 0.74986631\n",
      " 0.7418039  0.73662043 0.72568391 0.72265828 0.71273095 0.70592499\n",
      " 0.70188384 0.69797879 0.69503184 0.68755975 0.68502618 0.68327513\n",
      " 0.68301107 0.67730548 0.66507474 0.66157814 0.66098487 0.65976988\n",
      " 0.65012064 0.64173256 0.63220621 0.63161747 0.62892218 0.62637553\n",
      " 0.6209174  0.61342741 0.61136664 0.60633593 0.60336043 0.60264093\n",
      " 0.59176776 0.59022285 0.58987802 0.58546965 0.57752615 0.57719678\n",
      " 0.57263505 0.57176979 0.56797985 0.56692962 0.56477614 0.56166038\n",
      " 0.56160667 0.55807937 0.55712038 0.55598264 0.55152648 0.54319015\n",
      " 0.54123276 0.53518612 0.53388709 0.53127231 0.52981703 0.52820434\n",
      " 0.52819803 0.52815308 0.52789935 0.5274713  0.5272122  0.52373569\n",
      " 0.52314233 0.52307611 0.51753197 0.51609995 0.51607533 0.51500686\n",
      " 0.51473407 0.5129049  0.51125331 0.51028914 0.50594913 0.50357929\n",
      " 0.50220103 0.4984593  0.49762936 0.49586538 0.49289142 0.49091764\n",
      " 0.48896329 0.48763707 0.4875903  0.48457967 0.48427027 0.48180024\n",
      " 0.47807283 0.47514455 0.47235248 0.47063077 0.46907012 0.46493808\n",
      " 0.46270047 0.46133238 0.46059533 0.46002459 0.45775368 0.45649749\n",
      " 0.4550771  0.44808885 0.4480593  0.4450981  0.44436829 0.44338773\n",
      " 0.44250247 0.43919677 0.43774828 0.43607475 0.43427722 0.4342064\n",
      " 0.43353718 0.43279032 0.43215245 0.42929332 0.42905061 0.42824209\n",
      " 0.42653279 0.42234758 0.4203862  0.41904761 0.41651996 0.41585948\n",
      " 0.41452057 0.41199895 0.41036173 0.41016721 0.40584808 0.40143021\n",
      " 0.40117027 0.39973811 0.39685418 0.39629674 0.39486824 0.39028345\n",
      " 0.38939752 0.38894806 0.38893445 0.38769118 0.38643146 0.38501386\n",
      " 0.38374246 0.38294287 0.38186973 0.3810486  0.38072266 0.37994015\n",
      " 0.37988882 0.37494655 0.3714     0.37059802 0.37006935 0.36870815\n",
      " 0.36795673 0.36655713 0.36591223 0.36566237 0.3655544  0.36432329\n",
      " 0.36412502 0.36214817 0.36190233 0.36172622 0.35892011 0.35736531\n",
      " 0.35645573 0.35573228 0.35509892 0.35464146 0.35333607 0.35310244\n",
      " 0.35226347 0.35079188 0.34995964 0.34842293 0.34838644 0.34763192\n",
      " 0.34757181 0.34678696 0.34311723 0.34300645 0.34264686 0.34223317\n",
      " 0.34041499 0.33931118 0.33909297 0.33891055 0.33855165 0.33607812\n",
      " 0.33575296 0.33386977 0.3338278  0.33135628 0.33121434 0.32753592\n",
      " 0.32619461 0.3247057  0.32389929 0.32337466 0.32195567 0.3199078\n",
      " 0.31820114 0.31802203 0.31767321 0.31762379 0.31710954 0.31618485\n",
      " 0.31610456 0.31206668 0.3113912  0.30431744 0.30422258 0.30315663\n",
      " 0.30283187 0.30190045 0.30009073 0.30002745 0.29981956 0.29919236\n",
      " 0.29901384 0.29817222 0.2981111  0.29555448 0.29553651 0.29467801\n",
      " 0.29442022 0.29348231 0.29320854 0.29178767 0.29176444 0.28991421\n",
      " 0.28943484 0.28930261 0.28854271 0.28730756 0.28686041 0.28662417\n",
      " 0.28596694 0.28521042 0.28363849 0.28358656 0.28234925 0.28206443\n",
      " 0.28187974 0.27419481 0.27394963 0.27135339 0.271347   0.27077421\n",
      " 0.27039788 0.27034224 0.26901616 0.26819335 0.26803906 0.26649312\n",
      " 0.26646048 0.26431734 0.26413308 0.26194735 0.2616567  0.26164954\n",
      " 0.26089801 0.26079599 0.26070471 0.25852338 0.25849041 0.25673125\n",
      " 0.25635938 0.25590725 0.25510014 0.25267178 0.25263102 0.25222204\n",
      " 0.25221379 0.25133011 0.25130006 0.2503427  0.24867556 0.24629858\n",
      " 0.24600497 0.24473028 0.24463671 0.24337162 0.24284627 0.24269783\n",
      " 0.24265891 0.23751976 0.23743551 0.23681612 0.23648041 0.23645796\n",
      " 0.23625376 0.235415   0.23532903 0.23374029 0.23341623 0.23274118\n",
      " 0.23257592 0.23021583 0.22959613 0.22856823 0.22821326 0.2263735\n",
      " 0.22628626 0.22134326 0.22044208 0.22034382 0.21993253 0.21846499\n",
      " 0.21796334 0.21788668 0.21771838 0.21700338 0.21667199 0.21611961\n",
      " 0.21594536 0.21393388 0.21376198 0.2132117  0.2128452  0.21252455\n",
      " 0.21234532 0.211057   0.21089966 0.20895952 0.2087824  0.20810169\n",
      " 0.20796429 0.20499588 0.20413733 0.20305678 0.20282847 0.20194362\n",
      " 0.20157101 0.20011647 0.1996607  0.19842735 0.19832269 0.19817887\n",
      " 0.19784887 0.19612255 0.19604368 0.19587058 0.19581276 0.19433623\n",
      " 0.19427049 0.19212858 0.19208772 0.19197645 0.191076   0.19004756\n",
      " 0.18880341 0.18756629 0.18716452 0.18689922 0.18667389 0.18457767\n",
      " 0.18432583 0.18310864 0.18271567 0.18251054 0.18244085 0.17758589\n",
      " 0.1775627  0.17729701 0.17705321 0.17619864 0.175983   0.17594099\n",
      " 0.17583532 0.17526024 0.17497349 0.17470785 0.17447733 0.17408794\n",
      " 0.17318716 0.1705852  0.17053083 0.17024767 0.17009528 0.1680867\n",
      " 0.16793919 0.16701858 0.16697553 0.16690969 0.16645158 0.1655157\n",
      " 0.16519333 0.16504283 0.16494441 0.16405185 0.16397873 0.16374086\n",
      " 0.16352532 0.16336048 0.16317525 0.16252036 0.16223439 0.16091516\n",
      " 0.16082978 0.15875244 0.15871276 0.15860225 0.15844264 0.1583351\n",
      " 0.15832371 0.15639309 0.15618445 0.15273432 0.15241366 0.15049044\n",
      " 0.15035844 0.14921628 0.14893637 0.1486727  0.14813771 0.14807011\n",
      " 0.14798532 0.14795872 0.14759531 0.1474617  0.14706258 0.14688855\n",
      " 0.14685231 0.14355924 0.14297395 0.14191542 0.14184041 0.14046203\n",
      " 0.14032496 0.13928952 0.13921462 0.13687234 0.1366047  0.13528838\n",
      " 0.13516798 0.1338088  0.13354775 0.13128551 0.13122794 0.13100521\n",
      " 0.13087266 0.13044076 0.13017339 0.12996354 0.12994998 0.1256139\n",
      " 0.12557093 0.1231974  0.12301867 0.1162879  0.11625314 0.11547794\n",
      " 0.1150198  0.11342301 0.11331927 0.11132795 0.11124947 0.10855782\n",
      " 0.10848143 0.10721755 0.1071569  0.10467683 0.1046459  0.10296475\n",
      " 0.10283711 0.1015935  0.1015273  0.09834396 0.09820284 0.09724481\n",
      " 0.09713341 0.09504039 0.09480218 0.09430378 0.09403868 0.09334414\n",
      " 0.09333335 0.0932387  0.09313249 0.09111575 0.09109715 0.09046526\n",
      " 0.09032019 0.08899213 0.08896567 0.08610301 0.08592294 0.0831514\n",
      " 0.08299496 0.08055395 0.08052006 0.07567303 0.07550368 0.07196806\n",
      " 0.07184596 0.0705574  0.07050859 0.06956099 0.06930074 0.06918863\n",
      " 0.06913607 0.0653172  0.06528682 0.06516797 0.06503507 0.06390449\n",
      " 0.0637829  0.06301673 0.06299724 0.0598908  0.05974995 0.05767024\n",
      " 0.05760836 0.0563328  0.05595181 0.05513608 0.05502777 0.04788399\n",
      " 0.04760514 0.04617588 0.04611113 0.0401585  0.04014807 0.03484556\n",
      " 0.03473018 0.02810758 0.02802126 0.02409824 0.0236967  0.01914138\n",
      " 0.01634918 0.0155933  0.01542882 0.0118502  0.01110915]\n"
     ]
    }
   ],
   "source": [
    "print(threshold_array)"
   ]
  },
  {
   "cell_type": "code",
   "execution_count": 31,
   "metadata": {},
   "outputs": [
    {
     "name": "stdout",
     "output_type": "stream",
     "text": [
      "[0.00000000e+00 0.00000000e+00 0.00000000e+00 6.26959248e-04\n",
      " 6.26959248e-04 1.25391850e-03 1.25391850e-03 1.88087774e-03\n",
      " 1.88087774e-03 2.50783699e-03 2.50783699e-03 3.13479624e-03\n",
      " 3.13479624e-03 4.38871473e-03 4.38871473e-03 5.01567398e-03\n",
      " 5.01567398e-03 5.64263323e-03 5.64263323e-03 6.89655172e-03\n",
      " 6.89655172e-03 9.40438871e-03 9.40438871e-03 1.00313480e-02\n",
      " 1.00313480e-02 1.06583072e-02 1.06583072e-02 1.12852665e-02\n",
      " 1.12852665e-02 1.19122257e-02 1.19122257e-02 1.25391850e-02\n",
      " 1.25391850e-02 1.31661442e-02 1.31661442e-02 1.44200627e-02\n",
      " 1.44200627e-02 1.56739812e-02 1.56739812e-02 1.69278997e-02\n",
      " 1.69278997e-02 1.75548589e-02 1.75548589e-02 1.81818182e-02\n",
      " 1.81818182e-02 2.00626959e-02 2.00626959e-02 2.06896552e-02\n",
      " 2.06896552e-02 2.13166144e-02 2.13166144e-02 2.19435737e-02\n",
      " 2.19435737e-02 2.25705329e-02 2.25705329e-02 2.31974922e-02\n",
      " 2.31974922e-02 2.38244514e-02 2.38244514e-02 2.63322884e-02\n",
      " 2.63322884e-02 2.75862069e-02 2.75862069e-02 2.88401254e-02\n",
      " 2.88401254e-02 2.94670846e-02 2.94670846e-02 3.00940439e-02\n",
      " 3.00940439e-02 3.07210031e-02 3.07210031e-02 3.38557994e-02\n",
      " 3.38557994e-02 3.44827586e-02 3.44827586e-02 3.51097179e-02\n",
      " 3.51097179e-02 3.63636364e-02 3.63636364e-02 3.88714734e-02\n",
      " 3.88714734e-02 4.01253918e-02 4.01253918e-02 4.20062696e-02\n",
      " 4.20062696e-02 4.38871473e-02 4.38871473e-02 4.45141066e-02\n",
      " 4.45141066e-02 4.51410658e-02 4.51410658e-02 4.57680251e-02\n",
      " 4.57680251e-02 4.76489028e-02 4.76489028e-02 4.89028213e-02\n",
      " 4.89028213e-02 5.01567398e-02 5.01567398e-02 5.14106583e-02\n",
      " 5.14106583e-02 5.39184953e-02 5.39184953e-02 5.45454545e-02\n",
      " 5.45454545e-02 5.51724138e-02 5.51724138e-02 5.70532915e-02\n",
      " 5.70532915e-02 5.83072100e-02 5.83072100e-02 6.01880878e-02\n",
      " 6.01880878e-02 6.14420063e-02 6.14420063e-02 6.33228840e-02\n",
      " 6.33228840e-02 6.58307210e-02 6.58307210e-02 6.64576803e-02\n",
      " 6.64576803e-02 6.77115987e-02 6.77115987e-02 7.02194357e-02\n",
      " 7.02194357e-02 7.08463950e-02 7.08463950e-02 7.46081505e-02\n",
      " 7.46081505e-02 7.52351097e-02 7.52351097e-02 7.64890282e-02\n",
      " 7.64890282e-02 7.77429467e-02 7.77429467e-02 7.83699060e-02\n",
      " 7.83699060e-02 8.21316614e-02 8.21316614e-02 8.27586207e-02\n",
      " 8.27586207e-02 8.40125392e-02 8.40125392e-02 8.65203762e-02\n",
      " 8.65203762e-02 8.77742947e-02 8.77742947e-02 9.09090909e-02\n",
      " 9.09090909e-02 9.27899687e-02 9.27899687e-02 9.34169279e-02\n",
      " 9.34169279e-02 9.40438871e-02 9.40438871e-02 9.59247649e-02\n",
      " 9.59247649e-02 1.01567398e-01 1.01567398e-01 1.02821317e-01\n",
      " 1.02821317e-01 1.04075235e-01 1.04075235e-01 1.05329154e-01\n",
      " 1.05329154e-01 1.05956113e-01 1.05956113e-01 1.07210031e-01\n",
      " 1.07210031e-01 1.09090909e-01 1.09090909e-01 1.09717868e-01\n",
      " 1.09717868e-01 1.10971787e-01 1.10971787e-01 1.11598746e-01\n",
      " 1.11598746e-01 1.12225705e-01 1.12225705e-01 1.12852665e-01\n",
      " 1.12852665e-01 1.14106583e-01 1.14106583e-01 1.15360502e-01\n",
      " 1.15360502e-01 1.17241379e-01 1.17241379e-01 1.17868339e-01\n",
      " 1.17868339e-01 1.18495298e-01 1.18495298e-01 1.19749216e-01\n",
      " 1.19749216e-01 1.20376176e-01 1.20376176e-01 1.21630094e-01\n",
      " 1.21630094e-01 1.24137931e-01 1.24137931e-01 1.26645768e-01\n",
      " 1.26645768e-01 1.29780564e-01 1.29780564e-01 1.35423197e-01\n",
      " 1.35423197e-01 1.37931034e-01 1.37931034e-01 1.38557994e-01\n",
      " 1.38557994e-01 1.39811912e-01 1.39811912e-01 1.41065831e-01\n",
      " 1.41065831e-01 1.41692790e-01 1.41692790e-01 1.44200627e-01\n",
      " 1.44200627e-01 1.51724138e-01 1.51724138e-01 1.56739812e-01\n",
      " 1.56739812e-01 1.58620690e-01 1.58620690e-01 1.60501567e-01\n",
      " 1.60501567e-01 1.61128527e-01 1.61128527e-01 1.62382445e-01\n",
      " 1.62382445e-01 1.64263323e-01 1.64263323e-01 1.70532915e-01\n",
      " 1.70532915e-01 1.71786834e-01 1.71786834e-01 1.72413793e-01\n",
      " 1.72413793e-01 1.73667712e-01 1.73667712e-01 1.76175549e-01\n",
      " 1.76175549e-01 1.76802508e-01 1.76802508e-01 1.78056426e-01\n",
      " 1.78056426e-01 1.79310345e-01 1.79310345e-01 1.81818182e-01\n",
      " 1.81818182e-01 1.82445141e-01 1.82445141e-01 1.83072100e-01\n",
      " 1.83072100e-01 1.90595611e-01 1.90595611e-01 1.95611285e-01\n",
      " 1.95611285e-01 1.96238245e-01 1.96238245e-01 1.96865204e-01\n",
      " 1.96865204e-01 2.01253918e-01 2.01253918e-01 2.03134796e-01\n",
      " 2.03134796e-01 2.10031348e-01 2.10031348e-01 2.13166144e-01\n",
      " 2.13166144e-01 2.13793103e-01 2.13793103e-01 2.14420063e-01\n",
      " 2.14420063e-01 2.16300940e-01 2.16300940e-01 2.19435737e-01\n",
      " 2.19435737e-01 2.21316614e-01 2.21316614e-01 2.25705329e-01\n",
      " 2.25705329e-01 2.27586207e-01 2.27586207e-01 2.29467085e-01\n",
      " 2.29467085e-01 2.30094044e-01 2.30094044e-01 2.35109718e-01\n",
      " 2.35109718e-01 2.38244514e-01 2.38244514e-01 2.39498433e-01\n",
      " 2.39498433e-01 2.41379310e-01 2.41379310e-01 2.52037618e-01\n",
      " 2.52037618e-01 2.55799373e-01 2.55799373e-01 2.56426332e-01\n",
      " 2.56426332e-01 2.57680251e-01 2.57680251e-01 2.59561129e-01\n",
      " 2.59561129e-01 2.61442006e-01 2.61442006e-01 2.68338558e-01\n",
      " 2.68338558e-01 2.71473354e-01 2.71473354e-01 2.74608150e-01\n",
      " 2.74608150e-01 2.81504702e-01 2.81504702e-01 2.82758621e-01\n",
      " 2.82758621e-01 2.85893417e-01 2.85893417e-01 2.86520376e-01\n",
      " 2.86520376e-01 2.87147335e-01 2.87147335e-01 2.88401254e-01\n",
      " 2.88401254e-01 2.92789969e-01 2.92789969e-01 2.93416928e-01\n",
      " 2.93416928e-01 2.94043887e-01 2.94043887e-01 2.96551724e-01\n",
      " 2.96551724e-01 3.01567398e-01 3.01567398e-01 3.03448276e-01\n",
      " 3.03448276e-01 3.09090909e-01 3.09090909e-01 3.12225705e-01\n",
      " 3.12225705e-01 3.15360502e-01 3.15360502e-01 3.19122257e-01\n",
      " 3.19122257e-01 3.21630094e-01 3.21630094e-01 3.23510972e-01\n",
      " 3.23510972e-01 3.31034483e-01 3.31034483e-01 3.31661442e-01\n",
      " 3.31661442e-01 3.35423197e-01 3.35423197e-01 3.40438871e-01\n",
      " 3.40438871e-01 3.41065831e-01 3.41065831e-01 3.46081505e-01\n",
      " 3.46081505e-01 3.51724138e-01 3.51724138e-01 3.52351097e-01\n",
      " 3.52351097e-01 3.59874608e-01 3.59874608e-01 3.63636364e-01\n",
      " 3.63636364e-01 3.64890282e-01 3.64890282e-01 3.76175549e-01\n",
      " 3.76175549e-01 3.77429467e-01 3.77429467e-01 3.80564263e-01\n",
      " 3.80564263e-01 3.81191223e-01 3.81191223e-01 3.83072100e-01\n",
      " 3.83072100e-01 3.84326019e-01 3.84326019e-01 3.85579937e-01\n",
      " 3.85579937e-01 3.92476489e-01 3.92476489e-01 3.93103448e-01\n",
      " 3.93103448e-01 3.99373041e-01 3.99373041e-01 4.03134796e-01\n",
      " 4.03134796e-01 4.03761755e-01 4.03761755e-01 4.07523511e-01\n",
      " 4.07523511e-01 4.08150470e-01 4.08150470e-01 4.12539185e-01\n",
      " 4.12539185e-01 4.13793103e-01 4.13793103e-01 4.15047022e-01\n",
      " 4.15047022e-01 4.17554859e-01 4.17554859e-01 4.24451411e-01\n",
      " 4.24451411e-01 4.26959248e-01 4.26959248e-01 4.27586207e-01\n",
      " 4.27586207e-01 4.28213166e-01 4.28213166e-01 4.35109718e-01\n",
      " 4.35109718e-01 4.49529781e-01 4.49529781e-01 4.55172414e-01\n",
      " 4.55172414e-01 4.59561129e-01 4.59561129e-01 4.60815047e-01\n",
      " 4.60815047e-01 4.61442006e-01 4.61442006e-01 4.62068966e-01\n",
      " 4.62068966e-01 4.63949843e-01 4.63949843e-01 4.64576803e-01\n",
      " 4.64576803e-01 4.76489028e-01 4.76489028e-01 4.80250784e-01\n",
      " 4.80250784e-01 4.84639498e-01 4.84639498e-01 4.90282132e-01\n",
      " 4.90282132e-01 5.00940439e-01 5.00940439e-01 5.08463950e-01\n",
      " 5.08463950e-01 5.10971787e-01 5.10971787e-01 5.15987461e-01\n",
      " 5.15987461e-01 5.16614420e-01 5.16614420e-01 5.18495298e-01\n",
      " 5.18495298e-01 5.19749216e-01 5.19749216e-01 5.38557994e-01\n",
      " 5.38557994e-01 5.51724138e-01 5.51724138e-01 5.71159875e-01\n",
      " 5.71159875e-01 5.73040752e-01 5.73040752e-01 5.80564263e-01\n",
      " 5.80564263e-01 5.90595611e-01 5.90595611e-01 6.02507837e-01\n",
      " 6.02507837e-01 6.06896552e-01 6.06896552e-01 6.18181818e-01\n",
      " 6.18181818e-01 6.27586207e-01 6.27586207e-01 6.33855799e-01\n",
      " 6.33855799e-01 6.45141066e-01 6.45141066e-01 6.52037618e-01\n",
      " 6.52037618e-01 6.63322884e-01 6.63322884e-01 6.65830721e-01\n",
      " 6.65830721e-01 6.70219436e-01 6.70219436e-01 6.71473354e-01\n",
      " 6.71473354e-01 6.76489028e-01 6.76489028e-01 6.79623824e-01\n",
      " 6.79623824e-01 6.85266458e-01 6.85266458e-01 6.97805643e-01\n",
      " 6.97805643e-01 7.12225705e-01 7.12225705e-01 7.26645768e-01\n",
      " 7.26645768e-01 7.42319749e-01 7.42319749e-01 7.60501567e-01\n",
      " 7.60501567e-01 7.69278997e-01 7.69278997e-01 7.76802508e-01\n",
      " 7.76802508e-01 7.78683386e-01 7.78683386e-01 7.96238245e-01\n",
      " 7.96238245e-01 7.97492163e-01 7.97492163e-01 8.05642633e-01\n",
      " 8.05642633e-01 8.09404389e-01 8.09404389e-01 8.26332288e-01\n",
      " 8.26332288e-01 8.41379310e-01 8.41379310e-01 8.49529781e-01\n",
      " 8.49529781e-01 8.55799373e-01 8.55799373e-01 8.85893417e-01\n",
      " 8.85893417e-01 8.94670846e-01 8.94670846e-01 9.22884013e-01\n",
      " 9.22884013e-01 9.51724138e-01 9.51724138e-01 9.79310345e-01\n",
      " 9.79310345e-01 9.88714734e-01 9.88714734e-01 9.96238245e-01\n",
      " 9.96238245e-01 9.97492163e-01 9.97492163e-01 1.00000000e+00\n",
      " 1.00000000e+00]\n"
     ]
    }
   ],
   "source": [
    "print(fpr_array)"
   ]
  },
  {
   "cell_type": "code",
   "execution_count": 32,
   "metadata": {},
   "outputs": [
    {
     "name": "stdout",
     "output_type": "stream",
     "text": [
      "[0.         0.00246914 0.00740741 0.00740741 0.00987654 0.00987654\n",
      " 0.01234568 0.01234568 0.01975309 0.01975309 0.03950617 0.03950617\n",
      " 0.04197531 0.04197531 0.04938272 0.04938272 0.05185185 0.05185185\n",
      " 0.05925926 0.05925926 0.06419753 0.06419753 0.06666667 0.06666667\n",
      " 0.0691358  0.0691358  0.07901235 0.07901235 0.08148148 0.08148148\n",
      " 0.09135802 0.09135802 0.1037037  0.1037037  0.11111111 0.11111111\n",
      " 0.11604938 0.11604938 0.11851852 0.11851852 0.12592593 0.12592593\n",
      " 0.13580247 0.13580247 0.1382716  0.1382716  0.15061728 0.15061728\n",
      " 0.15802469 0.15802469 0.16296296 0.16296296 0.17283951 0.17283951\n",
      " 0.17530864 0.17530864 0.17777778 0.17777778 0.18024691 0.18024691\n",
      " 0.18271605 0.18271605 0.18765432 0.18765432 0.19012346 0.19012346\n",
      " 0.19259259 0.19259259 0.19506173 0.19506173 0.19753086 0.19753086\n",
      " 0.2        0.2        0.21728395 0.21728395 0.21975309 0.21975309\n",
      " 0.22222222 0.22222222 0.22716049 0.22716049 0.23209877 0.23209877\n",
      " 0.23703704 0.23703704 0.23950617 0.23950617 0.24691358 0.24691358\n",
      " 0.25185185 0.25185185 0.25432099 0.25432099 0.25925926 0.25925926\n",
      " 0.2617284  0.2617284  0.2691358  0.2691358  0.27160494 0.27160494\n",
      " 0.28148148 0.28148148 0.28641975 0.28641975 0.29382716 0.29382716\n",
      " 0.29876543 0.29876543 0.30123457 0.30123457 0.3037037  0.3037037\n",
      " 0.30617284 0.30617284 0.30864198 0.30864198 0.31111111 0.31111111\n",
      " 0.31358025 0.31358025 0.31604938 0.31604938 0.31851852 0.31851852\n",
      " 0.32345679 0.32345679 0.3308642  0.3308642  0.34320988 0.34320988\n",
      " 0.34567901 0.34567901 0.35061728 0.35061728 0.36049383 0.36049383\n",
      " 0.36296296 0.36296296 0.37530864 0.37530864 0.38271605 0.38271605\n",
      " 0.38518519 0.38518519 0.38765432 0.38765432 0.39506173 0.39506173\n",
      " 0.4        0.4        0.40246914 0.40246914 0.40493827 0.40493827\n",
      " 0.40740741 0.40740741 0.41975309 0.41975309 0.42469136 0.42469136\n",
      " 0.42716049 0.42716049 0.42962963 0.42962963 0.43209877 0.43209877\n",
      " 0.4345679  0.4345679  0.43703704 0.43703704 0.44691358 0.44691358\n",
      " 0.44938272 0.44938272 0.45185185 0.45185185 0.45432099 0.45432099\n",
      " 0.45925926 0.45925926 0.46419753 0.46419753 0.46666667 0.46666667\n",
      " 0.4691358  0.4691358  0.47901235 0.47901235 0.48148148 0.48148148\n",
      " 0.48641975 0.48641975 0.48888889 0.48888889 0.49135802 0.49135802\n",
      " 0.49382716 0.49382716 0.4962963  0.4962963  0.49876543 0.49876543\n",
      " 0.5037037  0.5037037  0.50617284 0.50617284 0.50864198 0.50864198\n",
      " 0.52098765 0.52098765 0.52345679 0.52345679 0.52592593 0.52592593\n",
      " 0.52839506 0.52839506 0.53333333 0.53333333 0.53580247 0.53580247\n",
      " 0.5382716  0.5382716  0.54320988 0.54320988 0.54567901 0.54567901\n",
      " 0.54814815 0.54814815 0.55061728 0.55061728 0.55308642 0.55308642\n",
      " 0.55555556 0.55555556 0.55802469 0.55802469 0.56049383 0.56049383\n",
      " 0.5654321  0.5654321  0.56790123 0.56790123 0.57283951 0.57283951\n",
      " 0.57777778 0.57777778 0.58024691 0.58024691 0.58271605 0.58271605\n",
      " 0.58765432 0.58765432 0.59012346 0.59012346 0.59259259 0.59259259\n",
      " 0.59506173 0.59506173 0.6        0.6        0.60246914 0.60246914\n",
      " 0.60493827 0.60493827 0.60987654 0.60987654 0.61234568 0.61234568\n",
      " 0.61481481 0.61481481 0.61728395 0.61728395 0.61975309 0.61975309\n",
      " 0.62222222 0.62222222 0.62469136 0.62469136 0.62716049 0.62716049\n",
      " 0.62962963 0.62962963 0.63209877 0.63209877 0.63703704 0.63703704\n",
      " 0.63950617 0.63950617 0.64197531 0.64197531 0.64444444 0.64444444\n",
      " 0.64691358 0.64691358 0.64938272 0.64938272 0.65432099 0.65432099\n",
      " 0.65679012 0.65679012 0.65925926 0.65925926 0.6617284  0.6617284\n",
      " 0.66419753 0.66419753 0.66666667 0.66666667 0.67654321 0.67654321\n",
      " 0.67901235 0.67901235 0.68395062 0.68395062 0.68641975 0.68641975\n",
      " 0.69135802 0.69135802 0.69382716 0.69382716 0.6962963  0.6962963\n",
      " 0.69876543 0.69876543 0.7037037  0.7037037  0.70617284 0.70617284\n",
      " 0.70864198 0.70864198 0.71111111 0.71111111 0.71358025 0.71358025\n",
      " 0.71604938 0.71604938 0.72098765 0.72098765 0.72345679 0.72345679\n",
      " 0.72592593 0.72592593 0.72839506 0.72839506 0.7308642  0.7308642\n",
      " 0.73333333 0.73333333 0.73580247 0.73580247 0.7382716  0.7382716\n",
      " 0.74074074 0.74074074 0.74320988 0.74320988 0.74567901 0.74567901\n",
      " 0.75061728 0.75061728 0.75308642 0.75308642 0.75555556 0.75555556\n",
      " 0.75802469 0.75802469 0.76049383 0.76049383 0.76296296 0.76296296\n",
      " 0.7654321  0.7654321  0.76790123 0.76790123 0.77283951 0.77283951\n",
      " 0.77530864 0.77530864 0.77777778 0.77777778 0.78024691 0.78024691\n",
      " 0.78518519 0.78518519 0.78765432 0.78765432 0.79012346 0.79012346\n",
      " 0.79259259 0.79259259 0.79506173 0.79506173 0.79753086 0.79753086\n",
      " 0.8        0.8        0.80246914 0.80246914 0.80493827 0.80493827\n",
      " 0.80740741 0.80740741 0.81234568 0.81234568 0.81481481 0.81481481\n",
      " 0.81728395 0.81728395 0.81975309 0.81975309 0.82222222 0.82222222\n",
      " 0.82469136 0.82469136 0.82716049 0.82716049 0.82962963 0.82962963\n",
      " 0.83209877 0.83209877 0.8345679  0.8345679  0.83703704 0.83703704\n",
      " 0.83950617 0.83950617 0.84444444 0.84444444 0.84691358 0.84691358\n",
      " 0.84938272 0.84938272 0.85185185 0.85185185 0.85432099 0.85432099\n",
      " 0.85679012 0.85679012 0.85925926 0.85925926 0.8617284  0.8617284\n",
      " 0.86666667 0.86666667 0.87160494 0.87160494 0.87407407 0.87407407\n",
      " 0.87654321 0.87654321 0.87901235 0.87901235 0.88148148 0.88148148\n",
      " 0.88395062 0.88395062 0.88888889 0.88888889 0.89135802 0.89135802\n",
      " 0.89382716 0.89382716 0.89876543 0.89876543 0.90123457 0.90123457\n",
      " 0.9037037  0.9037037  0.90617284 0.90617284 0.90864198 0.90864198\n",
      " 0.91111111 0.91111111 0.91358025 0.91358025 0.91604938 0.91604938\n",
      " 0.92098765 0.92098765 0.92345679 0.92345679 0.92592593 0.92592593\n",
      " 0.92839506 0.92839506 0.9308642  0.9308642  0.93333333 0.93333333\n",
      " 0.93580247 0.93580247 0.9382716  0.9382716  0.94074074 0.94074074\n",
      " 0.94320988 0.94320988 0.94567901 0.94567901 0.94814815 0.94814815\n",
      " 0.95061728 0.95061728 0.95308642 0.95308642 0.95555556 0.95555556\n",
      " 0.95802469 0.95802469 0.96049383 0.96049383 0.96296296 0.96296296\n",
      " 0.9654321  0.9654321  0.96790123 0.96790123 0.97037037 0.97037037\n",
      " 0.97283951 0.97283951 0.97530864 0.97530864 0.97777778 0.97777778\n",
      " 0.98024691 0.98024691 0.98271605 0.98271605 0.98518519 0.98518519\n",
      " 0.98765432 0.98765432 0.99012346 0.99012346 0.99259259 0.99259259\n",
      " 0.99506173 0.99506173 0.99753086 0.99753086 1.        ]\n"
     ]
    }
   ],
   "source": [
    "print(tpr_array)"
   ]
  },
  {
   "cell_type": "code",
   "execution_count": 33,
   "metadata": {},
   "outputs": [],
   "source": [
    "import numpy as np\n",
    "import pandas as pd\n",
    "\n",
    "import matplotlib.pyplot as plt\n",
    "\n",
    "from sklearn.datasets import make_blobs\n",
    "from sklearn.neighbors import KNeighborsClassifier\n",
    "from sklearn.model_selection import train_test_split"
   ]
  },
  {
   "cell_type": "code",
   "execution_count": 34,
   "metadata": {},
   "outputs": [],
   "source": [
    "\n",
    "knn = KNeighborsClassifier(n_neighbors = 9)\n"
   ]
  },
  {
   "cell_type": "markdown",
   "metadata": {},
   "source": [
    "Ona faire monter un model KNN avec un nombre de neuds 9"
   ]
  },
  {
   "cell_type": "code",
   "execution_count": 35,
   "metadata": {},
   "outputs": [],
   "source": [
    "\n",
    "knn.fit(x_train, y_train)\n",
    "y_pred_ = knn.predict(x_test)\n"
   ]
  },
  {
   "cell_type": "code",
   "execution_count": 36,
   "metadata": {},
   "outputs": [
    {
     "name": "stdout",
     "output_type": "stream",
     "text": [
      "Accuracy 84.6\n"
     ]
    }
   ],
   "source": [
    "from sklearn.metrics import accuracy_score\n",
    "print(\"Accuracy\", accuracy_score(y_test, y_pred_)*100)"
   ]
  },
  {
   "cell_type": "code",
   "execution_count": 37,
   "metadata": {},
   "outputs": [
    {
     "data": {
      "text/plain": [
       "array([[1512,   83],\n",
       "       [ 225,  180]], dtype=int64)"
      ]
     },
     "execution_count": 37,
     "metadata": {},
     "output_type": "execute_result"
    }
   ],
   "source": [
    "confusion_matrix(y_test,y_pred_)"
   ]
  },
  {
   "cell_type": "code",
   "execution_count": 38,
   "metadata": {},
   "outputs": [
    {
     "name": "stdout",
     "output_type": "stream",
     "text": [
      "              precision    recall  f1-score   support\n",
      "\n",
      "           0       0.87      0.95      0.91      1595\n",
      "           1       0.68      0.44      0.54       405\n",
      "\n",
      "    accuracy                           0.85      2000\n",
      "   macro avg       0.78      0.70      0.72      2000\n",
      "weighted avg       0.83      0.85      0.83      2000\n",
      "\n"
     ]
    }
   ],
   "source": [
    "from sklearn.metrics import classification_report\n",
    "print(classification_report(y_test,y_pred_))"
   ]
  },
  {
   "cell_type": "code",
   "execution_count": 39,
   "metadata": {},
   "outputs": [],
   "source": [
    "from sklearn.model_selection import GridSearchCV\n",
    "from sklearn.svm import SVC"
   ]
  },
  {
   "cell_type": "code",
   "execution_count": 40,
   "metadata": {},
   "outputs": [
    {
     "name": "stdout",
     "output_type": "stream",
     "text": [
      "Fitting 5 folds for each of 10 candidates, totalling 50 fits\n",
      "{'n_neighbors': 9}\n"
     ]
    }
   ],
   "source": [
    "from sklearn.model_selection import GridSearchCV\n",
    "k_range = list(range(1, 11))\n",
    "param_grid = dict(n_neighbors=k_range)\n",
    "grid = GridSearchCV(knn, param_grid, cv=5, scoring='accuracy', return_train_score=False,verbose=1)\n",
    "grid_search=grid.fit(x_train, y_train)\n",
    "print(grid_search.best_params_)"
   ]
  },
  {
   "cell_type": "markdown",
   "metadata": {},
   "source": [
    "Ona utilisé le GridSearch pour determiner le nombre de noeuds optimale qui nous donne la meilleure résultat de l'alhorithme knn et dans notre cas 9 est le nombre de noeuds optimal"
   ]
  },
  {
   "cell_type": "code",
   "execution_count": 41,
   "metadata": {},
   "outputs": [
    {
     "data": {
      "image/png": "[encoded data removed]",
      "text/plain": [
       "<Figure size 432x288 with 1 Axes>"
      ]
     },
     "metadata": {
      "needs_background": "light"
     },
     "output_type": "display_data"
    }
   ],
   "source": [
    "from sklearn.metrics import roc_curve,roc_auc_score  \n",
    "fpr_array1, tpr_array1, threshold_array1 = roc_curve(\n",
    "    y_true=y_test, y_score=knn.predict_proba(x_test)[:,1]\n",
    ")\n",
    "y_score=knn.predict_proba(x_test)[:,1]\n",
    "\n",
    "plt.plot(fpr_array,tpr_array,label=\"Lr AUC={:.2f}\".format(roc_auc_score(y_test,y_score1)))\n",
    "plt.plot(fpr_array1, tpr_array1,label=\"Knn9 AUC={:.2f}\".format(roc_auc_score(y_test,y_score)))\n",
    "plt.legend(loc=\"lower right\")\n",
    "plt.show()"
   ]
  },
  {
   "cell_type": "markdown",
   "metadata": {},
   "source": [
    "ici on peut bien remarqué que le knn9 et meuilleur que la regression logistique"
   ]
  },
  {
   "cell_type": "code",
   "execution_count": 42,
   "metadata": {},
   "outputs": [],
   "source": [
    "from sklearn.svm import SVC"
   ]
  },
  {
   "cell_type": "code",
   "execution_count": 43,
   "metadata": {},
   "outputs": [],
   "source": [
    "clf =SVC(kernel='linear')\n",
    "clf.fit(x_train, y_train)\n",
    "y_pred = clf.predict(x_test)\n"
   ]
  },
  {
   "cell_type": "code",
   "execution_count": 44,
   "metadata": {},
   "outputs": [],
   "source": [
    "from sklearn import metrics"
   ]
  },
  {
   "cell_type": "code",
   "execution_count": 45,
   "metadata": {},
   "outputs": [
    {
     "name": "stdout",
     "output_type": "stream",
     "text": [
      "Accuracy: 0.7975\n"
     ]
    }
   ],
   "source": [
    "print(\"Accuracy:\",metrics.accuracy_score(y_test, y_pred))"
   ]
  },
  {
   "cell_type": "markdown",
   "metadata": {},
   "source": [
    "ce modele est à rejeté car son accurancy est inferieure au null accuracy"
   ]
  },
  {
   "cell_type": "code",
   "execution_count": 46,
   "metadata": {},
   "outputs": [
    {
     "name": "stderr",
     "output_type": "stream",
     "text": [
      "c:\\Users\\amria\\AppData\\Local\\Programs\\Python\\Python310\\lib\\site-packages\\sklearn\\utils\\deprecation.py:87: FutureWarning: Function plot_confusion_matrix is deprecated; Function `plot_confusion_matrix` is deprecated in 1.0 and will be removed in 1.2. Use one of the class methods: ConfusionMatrixDisplay.from_predictions or ConfusionMatrixDisplay.from_estimator.\n",
      "  warnings.warn(msg, category=FutureWarning)\n"
     ]
    },
    {
     "data": {
      "text/plain": [
       "<sklearn.metrics._plot.confusion_matrix.ConfusionMatrixDisplay at 0x1f251883cd0>"
      ]
     },
     "execution_count": 46,
     "metadata": {},
     "output_type": "execute_result"
    },
    {
     "data": {
      "image/png": "[encoded data removed]",
      "text/plain": [
       "<Figure size 432x288 with 2 Axes>"
      ]
     },
     "metadata": {
      "needs_background": "light"
     },
     "output_type": "display_data"
    }
   ],
   "source": [
    "plot_confusion_matrix(clf,x_test,y_test)"
   ]
  },
  {
   "cell_type": "code",
   "execution_count": 47,
   "metadata": {},
   "outputs": [],
   "source": [
    "clf1 =SVC(kernel='rbf',probability=True)\n",
    "clf1.fit(x_train, y_train)\n",
    "y_pred_rbf= clf1.predict(x_test)"
   ]
  },
  {
   "cell_type": "markdown",
   "metadata": {},
   "source": [
    "Ona changé le noyeau de SVC"
   ]
  },
  {
   "cell_type": "code",
   "execution_count": 48,
   "metadata": {},
   "outputs": [
    {
     "name": "stdout",
     "output_type": "stream",
     "text": [
      "Accuracy: 0.8685\n"
     ]
    }
   ],
   "source": [
    "print(\"Accuracy:\",metrics.accuracy_score(y_test, y_pred_rbf))"
   ]
  },
  {
   "cell_type": "markdown",
   "metadata": {},
   "source": [
    "ce modéle est accépté"
   ]
  },
  {
   "cell_type": "code",
   "execution_count": 49,
   "metadata": {},
   "outputs": [
    {
     "name": "stderr",
     "output_type": "stream",
     "text": [
      "c:\\Users\\amria\\AppData\\Local\\Programs\\Python\\Python310\\lib\\site-packages\\sklearn\\utils\\deprecation.py:87: FutureWarning: Function plot_confusion_matrix is deprecated; Function `plot_confusion_matrix` is deprecated in 1.0 and will be removed in 1.2. Use one of the class methods: ConfusionMatrixDisplay.from_predictions or ConfusionMatrixDisplay.from_estimator.\n",
      "  warnings.warn(msg, category=FutureWarning)\n"
     ]
    },
    {
     "data": {
      "text/plain": [
       "<sklearn.metrics._plot.confusion_matrix.ConfusionMatrixDisplay at 0x1f253d08610>"
      ]
     },
     "execution_count": 49,
     "metadata": {},
     "output_type": "execute_result"
    },
    {
     "data": {
      "image/png": "[encoded data removed]",
      "text/plain": [
       "<Figure size 432x288 with 2 Axes>"
      ]
     },
     "metadata": {
      "needs_background": "light"
     },
     "output_type": "display_data"
    }
   ],
   "source": [
    "plot_confusion_matrix(clf1,x_test,y_test)"
   ]
  },
  {
   "cell_type": "code",
   "execution_count": 50,
   "metadata": {},
   "outputs": [
    {
     "data": {
      "image/png": "[encoded data removed]",
      "text/plain": [
       "<Figure size 432x288 with 1 Axes>"
      ]
     },
     "metadata": {
      "needs_background": "light"
     },
     "output_type": "display_data"
    }
   ],
   "source": [
    "y_pred_proba_rbf = clf1.predict_proba(x_test)\n",
    "fpr_rbf, tpr_rbf, th_rbf = roc_curve(y_test,  y_pred_proba_rbf[:,1])\n",
    "plt.plot(fpr_rbf, tpr_rbf)\n",
    "plt.show()"
   ]
  },
  {
   "cell_type": "code",
   "execution_count": 51,
   "metadata": {},
   "outputs": [
    {
     "data": {
      "image/png": "[encoded data removed]",
      "text/plain": [
       "<Figure size 432x288 with 1 Axes>"
      ]
     },
     "metadata": {
      "needs_background": "light"
     },
     "output_type": "display_data"
    }
   ],
   "source": [
    "plt.plot(fpr_array,tpr_array,label=\"Lr AUC={:.2f}\".format(roc_auc_score(y_test,y_score1)))\n",
    "plt.plot(fpr_array1, tpr_array1,label=\"Knn9 AUC={:.2f}\".format(roc_auc_score(y_test,y_score)))\n",
    "plt.plot(fpr_rbf, tpr_rbf,label=\"SVM AUC={:.2f}\".format(roc_auc_score(y_test,y_pred_proba_rbf[:,1])))\n",
    "\n",
    "plt.legend(loc=\"lower right\")\n",
    "plt.show()"
   ]
  },
  {
   "cell_type": "markdown",
   "metadata": {},
   "source": [
    "On remarque que ce modele est meilleur que les autres\n"
   ]
  },
  {
   "cell_type": "code",
   "execution_count": 52,
   "metadata": {},
   "outputs": [],
   "source": [
    "from sklearn.tree import DecisionTreeClassifier"
   ]
  },
  {
   "cell_type": "code",
   "execution_count": 53,
   "metadata": {},
   "outputs": [],
   "source": [
    "dt = DecisionTreeClassifier(max_depth=3)\n",
    "dt = dt.fit(x_train,y_train)\n",
    "y_pred_dt = dt.predict(x_test)"
   ]
  },
  {
   "cell_type": "code",
   "execution_count": 54,
   "metadata": {},
   "outputs": [
    {
     "name": "stdout",
     "output_type": "stream",
     "text": [
      "Accuracy: 0.8425\n"
     ]
    }
   ],
   "source": [
    "print(\"Accuracy:\",metrics.accuracy_score(y_test, y_pred_dt))"
   ]
  },
  {
   "cell_type": "code",
   "execution_count": 55,
   "metadata": {},
   "outputs": [
    {
     "name": "stderr",
     "output_type": "stream",
     "text": [
      "c:\\Users\\amria\\AppData\\Local\\Programs\\Python\\Python310\\lib\\site-packages\\sklearn\\utils\\deprecation.py:87: FutureWarning: Function plot_confusion_matrix is deprecated; Function `plot_confusion_matrix` is deprecated in 1.0 and will be removed in 1.2. Use one of the class methods: ConfusionMatrixDisplay.from_predictions or ConfusionMatrixDisplay.from_estimator.\n",
      "  warnings.warn(msg, category=FutureWarning)\n"
     ]
    },
    {
     "data": {
      "text/plain": [
       "<sklearn.metrics._plot.confusion_matrix.ConfusionMatrixDisplay at 0x1f2518f68c0>"
      ]
     },
     "execution_count": 55,
     "metadata": {},
     "output_type": "execute_result"
    },
    {
     "data": {
      "image/png": "[encoded data removed]",
      "text/plain": [
       "<Figure size 432x288 with 2 Axes>"
      ]
     },
     "metadata": {
      "needs_background": "light"
     },
     "output_type": "display_data"
    }
   ],
   "source": [
    "plot_confusion_matrix(dt,x_test,y_test)"
   ]
  },
  {
   "cell_type": "code",
   "execution_count": 56,
   "metadata": {},
   "outputs": [
    {
     "data": {
      "image/png": "[encoded data removed]",
      "text/plain": [
       "<Figure size 432x288 with 1 Axes>"
      ]
     },
     "metadata": {
      "needs_background": "light"
     },
     "output_type": "display_data"
    }
   ],
   "source": [
    "y_pred_proba_dt = dt.predict_proba(x_test)\n",
    "fpr_dt, tpr_dt, th_dt = roc_curve(y_test,  y_pred_proba_dt[:,1])\n",
    "plt.plot(fpr_dt, tpr_dt)\n",
    "plt.show()"
   ]
  },
  {
   "cell_type": "code",
   "execution_count": 57,
   "metadata": {},
   "outputs": [
    {
     "data": {
      "image/png": "[encoded data removed]",
      "text/plain": [
       "<Figure size 432x288 with 1 Axes>"
      ]
     },
     "metadata": {
      "needs_background": "light"
     },
     "output_type": "display_data"
    }
   ],
   "source": [
    "plt.plot(fpr_array,tpr_array,label=\"Lr AUC={:.2f}\".format(roc_auc_score(y_test,y_score1)))\n",
    "plt.plot(fpr_array1, tpr_array1,label=\"Knn9 AUC={:.2f}\".format(roc_auc_score(y_test,y_score)))\n",
    "plt.plot(fpr_rbf, tpr_rbf,label=\"SVM AUC={:.2f}\".format(roc_auc_score(y_test,y_pred_proba_rbf[:,1])))\n",
    "plt.plot(fpr_dt, tpr_dt,label=\"DT AUC={:.2f}\".format(roc_auc_score(y_test,y_pred_proba_dt[:,1])))\n",
    "\n",
    "plt.legend(loc=\"lower right\")\n",
    "plt.show()"
   ]
  },
  {
   "cell_type": "code",
   "execution_count": 58,
   "metadata": {},
   "outputs": [
    {
     "data": {
      "text/plain": [
       "[Text(0.5, 0.875, 'X[1] <= 0.349\\ngini = 0.325\\nsamples = 8000\\nvalue = [6368, 1632]'),\n",
       " Text(0.25, 0.625, 'X[4] <= 1.675\\ngini = 0.209\\nsamples = 5707\\nvalue = [5029, 678]'),\n",
       " Text(0.125, 0.375, 'X[4] <= -0.056\\ngini = 0.188\\nsamples = 5583\\nvalue = [4998, 585]'),\n",
       " Text(0.0625, 0.125, 'gini = 0.278\\nsamples = 2756\\nvalue = [2297, 459]'),\n",
       " Text(0.1875, 0.125, 'gini = 0.085\\nsamples = 2827\\nvalue = [2701, 126]'),\n",
       " Text(0.375, 0.375, 'X[3] <= -0.845\\ngini = 0.375\\nsamples = 124\\nvalue = [31, 93]'),\n",
       " Text(0.3125, 0.125, 'gini = 0.5\\nsamples = 50\\nvalue = [25, 25]'),\n",
       " Text(0.4375, 0.125, 'gini = 0.149\\nsamples = 74\\nvalue = [6, 68]'),\n",
       " Text(0.75, 0.625, 'X[6] <= 0.5\\ngini = 0.486\\nsamples = 2293\\nvalue = [1339, 954]'),\n",
       " Text(0.625, 0.375, 'X[1] <= 1.115\\ngini = 0.483\\nsamples = 1031\\nvalue = [420, 611]'),\n",
       " Text(0.5625, 0.125, 'gini = 0.497\\nsamples = 692\\nvalue = [371, 321]'),\n",
       " Text(0.6875, 0.125, 'gini = 0.247\\nsamples = 339\\nvalue = [49, 290]'),\n",
       " Text(0.875, 0.375, 'X[4] <= 1.675\\ngini = 0.396\\nsamples = 1262\\nvalue = [919, 343]'),\n",
       " Text(0.8125, 0.125, 'gini = 0.369\\nsamples = 1209\\nvalue = [914, 295]'),\n",
       " Text(0.9375, 0.125, 'gini = 0.171\\nsamples = 53\\nvalue = [5, 48]')]"
      ]
     },
     "execution_count": 58,
     "metadata": {},
     "output_type": "execute_result"
    },
    {
     "data": {
      "image/png": "[encoded data removed]",
      "text/plain": [
       "<Figure size 1440x720 with 1 Axes>"
      ]
     },
     "metadata": {
      "needs_background": "light"
     },
     "output_type": "display_data"
    }
   ],
   "source": [
    "from sklearn.tree import export_graphviz\n",
    "from sklearn import tree\n",
    "tree.export_graphviz(dt, out_file='tree.dot', feature_names = x_test.columns,class_names =[\"0\",\"1\"])\n",
    "plt.figure(figsize=(20,10))\n",
    "tree.plot_tree(dt)\n"
   ]
  },
  {
   "cell_type": "code",
   "execution_count": 59,
   "metadata": {},
   "outputs": [],
   "source": [
    "from sklearn.ensemble import RandomForestClassifier\n",
    "rf=RandomForestClassifier(n_estimators=500)\n",
    "rf.fit(x_train,y_train)\n",
    "y_pred_rf=rf.predict(x_test)"
   ]
  },
  {
   "cell_type": "code",
   "execution_count": 60,
   "metadata": {},
   "outputs": [
    {
     "name": "stdout",
     "output_type": "stream",
     "text": [
      "Accuracy: 0.8655\n"
     ]
    }
   ],
   "source": [
    "print(\"Accuracy:\",metrics.accuracy_score(y_test, y_pred_rf))"
   ]
  },
  {
   "cell_type": "code",
   "execution_count": 61,
   "metadata": {},
   "outputs": [
    {
     "name": "stderr",
     "output_type": "stream",
     "text": [
      "c:\\Users\\amria\\AppData\\Local\\Programs\\Python\\Python310\\lib\\site-packages\\sklearn\\utils\\deprecation.py:87: FutureWarning: Function plot_confusion_matrix is deprecated; Function `plot_confusion_matrix` is deprecated in 1.0 and will be removed in 1.2. Use one of the class methods: ConfusionMatrixDisplay.from_predictions or ConfusionMatrixDisplay.from_estimator.\n",
      "  warnings.warn(msg, category=FutureWarning)\n"
     ]
    },
    {
     "data": {
      "text/plain": [
       "<sklearn.metrics._plot.confusion_matrix.ConfusionMatrixDisplay at 0x1f247a5ecb0>"
      ]
     },
     "execution_count": 61,
     "metadata": {},
     "output_type": "execute_result"
    },
    {
     "data": {
      "image/png": "[encoded data removed]",
      "text/plain": [
       "<Figure size 432x288 with 2 Axes>"
      ]
     },
     "metadata": {
      "needs_background": "light"
     },
     "output_type": "display_data"
    }
   ],
   "source": [
    "plot_confusion_matrix(rf,x_test,y_test)"
   ]
  },
  {
   "cell_type": "code",
   "execution_count": 62,
   "metadata": {},
   "outputs": [],
   "source": [
    "y_pred_proba_rf = rf.predict_proba(x_test)\n",
    "fpr_rf, tpr_rf, th_rf = roc_curve(y_test,  y_pred_proba_rf[:,1])"
   ]
  },
  {
   "cell_type": "code",
   "execution_count": 63,
   "metadata": {},
   "outputs": [
    {
     "data": {
      "image/png": "[encoded data removed]",
      "text/plain": [
       "<Figure size 432x288 with 1 Axes>"
      ]
     },
     "metadata": {
      "needs_background": "light"
     },
     "output_type": "display_data"
    }
   ],
   "source": [
    "plt.plot(fpr_array,tpr_array,label=\"Lr AUC={:.2f}\".format(roc_auc_score(y_test,y_score1)))\n",
    "plt.plot(fpr_array1, tpr_array1,label=\"Knn9 AUC={:.2f}\".format(roc_auc_score(y_test,y_score)))\n",
    "plt.plot(fpr_rbf, tpr_rbf,label=\"SVM AUC={:.2f}\".format(roc_auc_score(y_test,y_pred_proba_rbf[:,1])))\n",
    "plt.plot(fpr_dt, tpr_dt,label=\"DT AUC={:.2f}\".format(roc_auc_score(y_test,y_pred_proba_dt[:,1])))\n",
    "plt.plot(fpr_rf, tpr_rf,label=\"RF AUC={:.2f}\".format(roc_auc_score(y_test,y_pred_proba_rf[:,1])))\n",
    "\n",
    "plt.legend(loc=\"lower right\")\n",
    "plt.show()"
   ]
  },
  {
   "cell_type": "markdown",
   "metadata": {},
   "source": [
    "On peut bien remqrquer que random forest est le modele le plus performant devant les autres "
   ]
  },
  {
   "cell_type": "code",
   "execution_count": 64,
   "metadata": {},
   "outputs": [
    {
     "name": "stderr",
     "output_type": "stream",
     "text": [
      "c:\\Users\\amria\\AppData\\Local\\Programs\\Python\\Python310\\lib\\site-packages\\sklearn\\utils\\deprecation.py:87: FutureWarning: Function load_boston is deprecated; `load_boston` is deprecated in 1.0 and will be removed in 1.2.\n",
      "\n",
      "    The Boston housing prices dataset has an ethical problem. You can refer to\n",
      "    the documentation of this function for further details.\n",
      "\n",
      "    The scikit-learn maintainers therefore strongly discourage the use of this\n",
      "    dataset unless the purpose of the code is to study and educate about\n",
      "    ethical issues in data science and machine learning.\n",
      "\n",
      "    In this special case, you can fetch the dataset from the original\n",
      "    source::\n",
      "\n",
      "        import pandas as pd\n",
      "        import numpy as np\n",
      "\n",
      "        data_url = \"http://lib.stat.cmu.edu/datasets/boston\"\n",
      "        raw_df = pd.read_csv(data_url, sep=\"\\s+\", skiprows=22, header=None)\n",
      "        data = np.hstack([raw_df.values[::2, :], raw_df.values[1::2, :2]])\n",
      "        target = raw_df.values[1::2, 2]\n",
      "\n",
      "    Alternative datasets include the California housing dataset (i.e.\n",
      "    :func:`~sklearn.datasets.fetch_california_housing`) and the Ames housing\n",
      "    dataset. You can load the datasets as follows::\n",
      "\n",
      "        from sklearn.datasets import fetch_california_housing\n",
      "        housing = fetch_california_housing()\n",
      "\n",
      "    for the California housing dataset and::\n",
      "\n",
      "        from sklearn.datasets import fetch_openml\n",
      "        housing = fetch_openml(name=\"house_prices\", as_frame=True)\n",
      "\n",
      "    for the Ames housing dataset.\n",
      "  warnings.warn(msg, category=FutureWarning)\n"
     ]
    }
   ],
   "source": [
    "from sklearn.datasets import load_boston\n",
    "boston = load_boston()\n"
   ]
  },
  {
   "cell_type": "code",
   "execution_count": 65,
   "metadata": {},
   "outputs": [
    {
     "data": {
      "text/plain": [
       "Text(0.5, 0, 'Random Forest Feature Importance')"
      ]
     },
     "execution_count": 65,
     "metadata": {},
     "output_type": "execute_result"
    },
    {
     "data": {
      "image/png": "[encoded data removed]",
      "text/plain": [
       "<Figure size 432x288 with 1 Axes>"
      ]
     },
     "metadata": {
      "needs_background": "light"
     },
     "output_type": "display_data"
    }
   ],
   "source": [
    "sorted_idx = rf.feature_importances_.argsort()\n",
    "plt.barh(rf.feature_names_in_[sorted_idx], rf.feature_importances_[sorted_idx])\n",
    "plt.xlabel(\"Random Forest Feature Importance\")"
   ]
  },
  {
   "cell_type": "markdown",
   "metadata": {},
   "source": [
    "a laide de se diagrame on peut determiner les paramétres qui ont une grande influence sur notre modéle "
   ]
  },
  {
   "cell_type": "code",
   "execution_count": 66,
   "metadata": {},
   "outputs": [],
   "source": [
    "df_filtered =df.filter(['Age','EstimatedSalary','Balance','CreditScore','NumOfProducts','Exited'])"
   ]
  },
  {
   "cell_type": "markdown",
   "metadata": {},
   "source": [
    "Ona choisir de laisser seulement les 5 premiérs paramétres "
   ]
  },
  {
   "cell_type": "code",
   "execution_count": 67,
   "metadata": {},
   "outputs": [
    {
     "data": {
      "text/html": [
       "<div>\n",
       "<style scoped>\n",
       "    .dataframe tbody tr th:only-of-type {\n",
       "        vertical-align: middle;\n",
       "    }\n",
       "\n",
       "    .dataframe tbody tr th {\n",
       "        vertical-align: top;\n",
       "    }\n",
       "\n",
       "    .dataframe thead th {\n",
       "        text-align: right;\n",
       "    }\n",
       "</style>\n",
       "<table border=\"1\" class=\"dataframe\">\n",
       "  <thead>\n",
       "    <tr style=\"text-align: right;\">\n",
       "      <th></th>\n",
       "      <th>Age</th>\n",
       "      <th>EstimatedSalary</th>\n",
       "      <th>Balance</th>\n",
       "      <th>CreditScore</th>\n",
       "      <th>NumOfProducts</th>\n",
       "      <th>Exited</th>\n",
       "    </tr>\n",
       "  </thead>\n",
       "  <tbody>\n",
       "    <tr>\n",
       "      <th>count</th>\n",
       "      <td>10000.000000</td>\n",
       "      <td>10000.000000</td>\n",
       "      <td>10000.000000</td>\n",
       "      <td>10000.000000</td>\n",
       "      <td>10000.000000</td>\n",
       "      <td>10000.000000</td>\n",
       "    </tr>\n",
       "    <tr>\n",
       "      <th>mean</th>\n",
       "      <td>38.921800</td>\n",
       "      <td>100090.239881</td>\n",
       "      <td>76485.889288</td>\n",
       "      <td>650.528800</td>\n",
       "      <td>1.530200</td>\n",
       "      <td>0.203700</td>\n",
       "    </tr>\n",
       "    <tr>\n",
       "      <th>std</th>\n",
       "      <td>10.487806</td>\n",
       "      <td>57510.492818</td>\n",
       "      <td>62397.405202</td>\n",
       "      <td>96.653299</td>\n",
       "      <td>0.581654</td>\n",
       "      <td>0.402769</td>\n",
       "    </tr>\n",
       "    <tr>\n",
       "      <th>min</th>\n",
       "      <td>18.000000</td>\n",
       "      <td>11.580000</td>\n",
       "      <td>0.000000</td>\n",
       "      <td>350.000000</td>\n",
       "      <td>1.000000</td>\n",
       "      <td>0.000000</td>\n",
       "    </tr>\n",
       "    <tr>\n",
       "      <th>25%</th>\n",
       "      <td>32.000000</td>\n",
       "      <td>51002.110000</td>\n",
       "      <td>0.000000</td>\n",
       "      <td>584.000000</td>\n",
       "      <td>1.000000</td>\n",
       "      <td>0.000000</td>\n",
       "    </tr>\n",
       "    <tr>\n",
       "      <th>50%</th>\n",
       "      <td>37.000000</td>\n",
       "      <td>100193.915000</td>\n",
       "      <td>97198.540000</td>\n",
       "      <td>652.000000</td>\n",
       "      <td>1.000000</td>\n",
       "      <td>0.000000</td>\n",
       "    </tr>\n",
       "    <tr>\n",
       "      <th>75%</th>\n",
       "      <td>44.000000</td>\n",
       "      <td>149388.247500</td>\n",
       "      <td>127644.240000</td>\n",
       "      <td>718.000000</td>\n",
       "      <td>2.000000</td>\n",
       "      <td>0.000000</td>\n",
       "    </tr>\n",
       "    <tr>\n",
       "      <th>max</th>\n",
       "      <td>92.000000</td>\n",
       "      <td>199992.480000</td>\n",
       "      <td>250898.090000</td>\n",
       "      <td>850.000000</td>\n",
       "      <td>4.000000</td>\n",
       "      <td>1.000000</td>\n",
       "    </tr>\n",
       "  </tbody>\n",
       "</table>\n",
       "</div>"
      ],
      "text/plain": [
       "                Age  EstimatedSalary        Balance   CreditScore  \\\n",
       "count  10000.000000     10000.000000   10000.000000  10000.000000   \n",
       "mean      38.921800    100090.239881   76485.889288    650.528800   \n",
       "std       10.487806     57510.492818   62397.405202     96.653299   \n",
       "min       18.000000        11.580000       0.000000    350.000000   \n",
       "25%       32.000000     51002.110000       0.000000    584.000000   \n",
       "50%       37.000000    100193.915000   97198.540000    652.000000   \n",
       "75%       44.000000    149388.247500  127644.240000    718.000000   \n",
       "max       92.000000    199992.480000  250898.090000    850.000000   \n",
       "\n",
       "       NumOfProducts        Exited  \n",
       "count   10000.000000  10000.000000  \n",
       "mean        1.530200      0.203700  \n",
       "std         0.581654      0.402769  \n",
       "min         1.000000      0.000000  \n",
       "25%         1.000000      0.000000  \n",
       "50%         1.000000      0.000000  \n",
       "75%         2.000000      0.000000  \n",
       "max         4.000000      1.000000  "
      ]
     },
     "execution_count": 67,
     "metadata": {},
     "output_type": "execute_result"
    }
   ],
   "source": [
    "df_filtered.describe()"
   ]
  },
  {
   "cell_type": "code",
   "execution_count": 68,
   "metadata": {},
   "outputs": [
    {
     "data": {
      "text/html": [
       "<div>\n",
       "<style scoped>\n",
       "    .dataframe tbody tr th:only-of-type {\n",
       "        vertical-align: middle;\n",
       "    }\n",
       "\n",
       "    .dataframe tbody tr th {\n",
       "        vertical-align: top;\n",
       "    }\n",
       "\n",
       "    .dataframe thead th {\n",
       "        text-align: right;\n",
       "    }\n",
       "</style>\n",
       "<table border=\"1\" class=\"dataframe\">\n",
       "  <thead>\n",
       "    <tr style=\"text-align: right;\">\n",
       "      <th></th>\n",
       "      <th>Age</th>\n",
       "      <th>EstimatedSalary</th>\n",
       "      <th>Balance</th>\n",
       "      <th>CreditScore</th>\n",
       "      <th>NumOfProducts</th>\n",
       "      <th>Exited</th>\n",
       "    </tr>\n",
       "  </thead>\n",
       "  <tbody>\n",
       "    <tr>\n",
       "      <th>Age</th>\n",
       "      <td>1.000000</td>\n",
       "      <td>-0.007201</td>\n",
       "      <td>0.028308</td>\n",
       "      <td>-0.003965</td>\n",
       "      <td>-0.030680</td>\n",
       "      <td>0.285323</td>\n",
       "    </tr>\n",
       "    <tr>\n",
       "      <th>EstimatedSalary</th>\n",
       "      <td>-0.007201</td>\n",
       "      <td>1.000000</td>\n",
       "      <td>0.012797</td>\n",
       "      <td>-0.001384</td>\n",
       "      <td>0.014204</td>\n",
       "      <td>0.012097</td>\n",
       "    </tr>\n",
       "    <tr>\n",
       "      <th>Balance</th>\n",
       "      <td>0.028308</td>\n",
       "      <td>0.012797</td>\n",
       "      <td>1.000000</td>\n",
       "      <td>0.006268</td>\n",
       "      <td>-0.304180</td>\n",
       "      <td>0.118533</td>\n",
       "    </tr>\n",
       "    <tr>\n",
       "      <th>CreditScore</th>\n",
       "      <td>-0.003965</td>\n",
       "      <td>-0.001384</td>\n",
       "      <td>0.006268</td>\n",
       "      <td>1.000000</td>\n",
       "      <td>0.012238</td>\n",
       "      <td>-0.027094</td>\n",
       "    </tr>\n",
       "    <tr>\n",
       "      <th>NumOfProducts</th>\n",
       "      <td>-0.030680</td>\n",
       "      <td>0.014204</td>\n",
       "      <td>-0.304180</td>\n",
       "      <td>0.012238</td>\n",
       "      <td>1.000000</td>\n",
       "      <td>-0.047820</td>\n",
       "    </tr>\n",
       "    <tr>\n",
       "      <th>Exited</th>\n",
       "      <td>0.285323</td>\n",
       "      <td>0.012097</td>\n",
       "      <td>0.118533</td>\n",
       "      <td>-0.027094</td>\n",
       "      <td>-0.047820</td>\n",
       "      <td>1.000000</td>\n",
       "    </tr>\n",
       "  </tbody>\n",
       "</table>\n",
       "</div>"
      ],
      "text/plain": [
       "                      Age  EstimatedSalary   Balance  CreditScore  \\\n",
       "Age              1.000000        -0.007201  0.028308    -0.003965   \n",
       "EstimatedSalary -0.007201         1.000000  0.012797    -0.001384   \n",
       "Balance          0.028308         0.012797  1.000000     0.006268   \n",
       "CreditScore     -0.003965        -0.001384  0.006268     1.000000   \n",
       "NumOfProducts   -0.030680         0.014204 -0.304180     0.012238   \n",
       "Exited           0.285323         0.012097  0.118533    -0.027094   \n",
       "\n",
       "                 NumOfProducts    Exited  \n",
       "Age                  -0.030680  0.285323  \n",
       "EstimatedSalary       0.014204  0.012097  \n",
       "Balance              -0.304180  0.118533  \n",
       "CreditScore           0.012238 -0.027094  \n",
       "NumOfProducts         1.000000 -0.047820  \n",
       "Exited               -0.047820  1.000000  "
      ]
     },
     "execution_count": 68,
     "metadata": {},
     "output_type": "execute_result"
    }
   ],
   "source": [
    "df_filtered.corr(method=\"pearson\")"
   ]
  },
  {
   "cell_type": "code",
   "execution_count": 69,
   "metadata": {},
   "outputs": [
    {
     "data": {
      "text/plain": [
       "Age                1.011320\n",
       "EstimatedSalary    0.002085\n",
       "Balance           -0.141109\n",
       "CreditScore       -0.071607\n",
       "NumOfProducts      0.745568\n",
       "Exited             1.471611\n",
       "dtype: float64"
      ]
     },
     "execution_count": 69,
     "metadata": {},
     "output_type": "execute_result"
    }
   ],
   "source": [
    "df_filtered.skew()"
   ]
  },
  {
   "cell_type": "code",
   "execution_count": 70,
   "metadata": {},
   "outputs": [],
   "source": [
    "x_filtered = df_filtered.iloc[:,:-1]\n",
    "y_filtered = df_filtered.iloc[:,-1:]"
   ]
  },
  {
   "cell_type": "code",
   "execution_count": 71,
   "metadata": {},
   "outputs": [],
   "source": [
    "x_train_filtered, x_test_filtered, y_train_filtered, y_test_filtered=train_test_split(x_filtered,y_filtered,test_size=0.2,random_state=0)"
   ]
  },
  {
   "cell_type": "code",
   "execution_count": 72,
   "metadata": {},
   "outputs": [],
   "source": [
    "sc2=StandardScaler()\n",
    "sc2.fit(x_train_filtered)\n",
    "x_train_filtered.iloc[:,:]=sc2.transform(x_train_filtered.iloc[:,:])"
   ]
  },
  {
   "cell_type": "code",
   "execution_count": 73,
   "metadata": {},
   "outputs": [],
   "source": [
    "x_test_filtered.iloc[:,:]=sc2.transform(x_test_filtered.iloc[:,:])"
   ]
  },
  {
   "cell_type": "code",
   "execution_count": 74,
   "metadata": {},
   "outputs": [],
   "source": [
    "from sklearn.metrics import ConfusionMatrixDisplay"
   ]
  },
  {
   "cell_type": "code",
   "execution_count": 75,
   "metadata": {},
   "outputs": [
    {
     "name": "stderr",
     "output_type": "stream",
     "text": [
      "c:\\Users\\amria\\AppData\\Local\\Programs\\Python\\Python310\\lib\\site-packages\\sklearn\\utils\\validation.py:1111: DataConversionWarning: A column-vector y was passed when a 1d array was expected. Please change the shape of y to (n_samples, ), for example using ravel().\n",
      "  y = column_or_1d(y, warn=True)\n"
     ]
    },
    {
     "data": {
      "text/plain": [
       "<sklearn.metrics._plot.confusion_matrix.ConfusionMatrixDisplay at 0x1f25c4b8d60>"
      ]
     },
     "execution_count": 75,
     "metadata": {},
     "output_type": "execute_result"
    },
    {
     "data": {
      "image/png": "[encoded data removed]",
      "text/plain": [
       "<Figure size 432x288 with 2 Axes>"
      ]
     },
     "metadata": {
      "needs_background": "light"
     },
     "output_type": "display_data"
    }
   ],
   "source": [
    "lr_filtered = LogisticRegression()\n",
    "lr_filtered.fit(x_train_filtered,y_train_filtered)\n",
    "y_pred_lr_filtered = lr_filtered.predict(x_test_filtered)\n",
    "cm=confusion_matrix(y_test_filtered,y_pred_lr_filtered)\n",
    "disp = ConfusionMatrixDisplay(confusion_matrix=cm)\n",
    "disp.plot()"
   ]
  },
  {
   "cell_type": "code",
   "execution_count": 76,
   "metadata": {},
   "outputs": [
    {
     "data": {
      "text/plain": [
       "0.780375"
      ]
     },
     "execution_count": 76,
     "metadata": {},
     "output_type": "execute_result"
    }
   ],
   "source": [
    "lr_filtered.score(x_train_filtered,y_train_filtered)"
   ]
  },
  {
   "cell_type": "code",
   "execution_count": 77,
   "metadata": {},
   "outputs": [
    {
     "data": {
      "text/plain": [
       "0.777"
      ]
     },
     "execution_count": 77,
     "metadata": {},
     "output_type": "execute_result"
    }
   ],
   "source": [
    "accuracy_score(y_test_filtered,y_pred_lr_filtered)"
   ]
  },
  {
   "cell_type": "code",
   "execution_count": 78,
   "metadata": {},
   "outputs": [],
   "source": [
    "y_pred_proba_lr_filtered = lr_filtered.predict_proba(x_test_filtered)"
   ]
  },
  {
   "cell_type": "code",
   "execution_count": 79,
   "metadata": {},
   "outputs": [
    {
     "data": {
      "text/plain": [
       "<sklearn.metrics._plot.confusion_matrix.ConfusionMatrixDisplay at 0x1f25c61e620>"
      ]
     },
     "execution_count": 79,
     "metadata": {},
     "output_type": "execute_result"
    },
    {
     "data": {
      "image/png": "[encoded data removed]",
      "text/plain": [
       "<Figure size 432x288 with 2 Axes>"
      ]
     },
     "metadata": {
      "needs_background": "light"
     },
     "output_type": "display_data"
    }
   ],
   "source": [
    "y_pred_with_threshold_filtered = (y_pred_proba_lr_filtered[:,1] >= 0.6).astype(int)\n",
    "cm=confusion_matrix(y_test_filtered,y_pred_with_threshold_filtered)\n",
    "disp = ConfusionMatrixDisplay(confusion_matrix=cm)\n",
    "disp.plot()"
   ]
  },
  {
   "cell_type": "code",
   "execution_count": 80,
   "metadata": {},
   "outputs": [
    {
     "name": "stderr",
     "output_type": "stream",
     "text": [
      "C:\\Users\\amria\\AppData\\Local\\Temp\\ipykernel_14924\\4083790822.py:14: UserWarning: Matplotlib is currently using module://matplotlib_inline.backend_inline, which is a non-GUI backend, so cannot show the figure.\n",
      "  fig.show()\n"
     ]
    },
    {
     "data": {
      "image/png": "[encoded data removed]",
      "text/plain": [
       "<Figure size 1080x360 with 2 Axes>"
      ]
     },
     "metadata": {
      "needs_background": "light"
     },
     "output_type": "display_data"
    }
   ],
   "source": [
    "fpr_lr_filtered, tpr_lr_filtered, thr_lr_filtered = roc_curve(y_test_filtered,  y_pred_proba_lr_filtered[:,1])\n",
    "fig, (ax1,ax2) = plt.subplots(nrows=1, ncols=2, figsize=(15, 5))\n",
    "ax1.plot(fpr_lr_filtered,tpr_lr_filtered,label=\"Lr AUC={:.2f}\".format(roc_auc_score(y_test_filtered,  y_pred_proba_lr_filtered[:,1]),2))\n",
    "ax1.set_ylabel('True Positive Rate')\n",
    "ax1.set_xlabel('False Positive Rate')\n",
    "ax1.legend(loc='lower right')\n",
    "ax1.set_title(\"Five important features\")\n",
    "\n",
    "ax2.plot(fpr_array,tpr_array,label=\"Lr AUC={:.2f}\".format(roc_auc_score(y_test,y_score1)))\n",
    "ax2.set_ylabel('True Positive Rate')\n",
    "ax2.set_xlabel('False Positive Rate')\n",
    "ax2.legend(loc='lower right')\n",
    "ax2.set_title(\"All dataset features\")\n",
    "fig.show()"
   ]
  },
  {
   "cell_type": "markdown",
   "metadata": {},
   "source": [
    "il y'a une amélioration comparant les deux courbes et ca grace a la selection des variables qui a été faite"
   ]
  },
  {
   "cell_type": "code",
   "execution_count": 81,
   "metadata": {},
   "outputs": [
    {
     "name": "stdout",
     "output_type": "stream",
     "text": [
      "Fitting 5 folds for each of 19 candidates, totalling 95 fits\n",
      "{'n_neighbors': 19}\n"
     ]
    }
   ],
   "source": [
    "from sklearn.model_selection import GridSearchCV\n",
    "k_range = list(range(1, 20))\n",
    "param_grid = dict(n_neighbors=k_range)\n",
    "grid = GridSearchCV(knn, param_grid, cv=5, scoring='accuracy', return_train_score=False,verbose=1)\n",
    "grid_search=grid.fit(x_train, y_train)\n",
    "print(grid_search.best_params_)"
   ]
  },
  {
   "cell_type": "code",
   "execution_count": 82,
   "metadata": {},
   "outputs": [
    {
     "name": "stderr",
     "output_type": "stream",
     "text": [
      "c:\\Users\\amria\\AppData\\Local\\Programs\\Python\\Python310\\lib\\site-packages\\sklearn\\neighbors\\_classification.py:207: DataConversionWarning: A column-vector y was passed when a 1d array was expected. Please change the shape of y to (n_samples,), for example using ravel().\n",
      "  return self._fit(X, y)\n"
     ]
    },
    {
     "data": {
      "text/plain": [
       "0.8365"
      ]
     },
     "execution_count": 82,
     "metadata": {},
     "output_type": "execute_result"
    }
   ],
   "source": [
    "knn_f = KNeighborsClassifier(19)\n",
    "knn_f.fit(x_train_filtered,y_train_filtered)\n",
    "knn_f.score(x_train_filtered,y_train_filtered)\n",
    "y_pred_knn_f = knn_f.predict(x_test_filtered)\n",
    "accuracy_score(y_test_filtered,y_pred_knn_f)"
   ]
  },
  {
   "cell_type": "code",
   "execution_count": 83,
   "metadata": {},
   "outputs": [
    {
     "data": {
      "text/plain": [
       "<sklearn.metrics._plot.confusion_matrix.ConfusionMatrixDisplay at 0x1f25be9b430>"
      ]
     },
     "execution_count": 83,
     "metadata": {},
     "output_type": "execute_result"
    },
    {
     "data": {
      "image/png": "[encoded data removed]",
      "text/plain": [
       "<Figure size 432x288 with 2 Axes>"
      ]
     },
     "metadata": {
      "needs_background": "light"
     },
     "output_type": "display_data"
    }
   ],
   "source": [
    "cm = confusion_matrix(y_test_filtered,y_pred_knn_f)\n",
    "disp = ConfusionMatrixDisplay(confusion_matrix=cm)\n",
    "disp.plot()"
   ]
  },
  {
   "cell_type": "code",
   "execution_count": 84,
   "metadata": {},
   "outputs": [],
   "source": [
    "y_pred_proba_knn_f = knn_f.predict_proba(x_test_filtered)\n",
    "fpr_knn_f, tpr_knn_f, th_knn_f = roc_curve(y_test_filtered,  y_pred_proba_knn_f[:,1])"
   ]
  },
  {
   "cell_type": "code",
   "execution_count": 85,
   "metadata": {},
   "outputs": [
    {
     "name": "stderr",
     "output_type": "stream",
     "text": [
      "C:\\Users\\amria\\AppData\\Local\\Temp\\ipykernel_14924\\637103284.py:8: UserWarning: Matplotlib is currently using module://matplotlib_inline.backend_inline, which is a non-GUI backend, so cannot show the figure.\n",
      "  fig.show()\n"
     ]
    },
    {
     "data": {
      "image/png": "[encoded data removed]",
      "text/plain": [
       "<Figure size 432x288 with 1 Axes>"
      ]
     },
     "metadata": {
      "needs_background": "light"
     },
     "output_type": "display_data"
    }
   ],
   "source": [
    "\n",
    "plt.plot(fpr_knn_f,tpr_knn_f,label=knn_f.__class__.__name__+\"(19) (AUC = \"+str(round(roc_auc_score(y_test_filtered,  y_pred_proba_knn_f[:,1]),2))+\")\")\n",
    "plt.plot(fpr_lr_filtered,tpr_lr_filtered,label=lr_filtered.__class__.__name__+\" (AUC = \"+str(round(roc_auc_score(y_test_filtered,  y_pred_proba_lr_filtered[:,1]),2))+\")\")\n",
    "\n",
    "plt.legend(loc='lower right')\n",
    "\n",
    "\n",
    "\n",
    "fig.show()"
   ]
  },
  {
   "cell_type": "code",
   "execution_count": 86,
   "metadata": {},
   "outputs": [
    {
     "name": "stderr",
     "output_type": "stream",
     "text": [
      "c:\\Users\\amria\\AppData\\Local\\Programs\\Python\\Python310\\lib\\site-packages\\sklearn\\utils\\validation.py:1111: DataConversionWarning: A column-vector y was passed when a 1d array was expected. Please change the shape of y to (n_samples, ), for example using ravel().\n",
      "  y = column_or_1d(y, warn=True)\n"
     ]
    }
   ],
   "source": [
    "svc_rbf_f = SVC(kernel=\"rbf\",probability=True)\n",
    "svc_rbf_f.fit(x_train_filtered,y_train_filtered)\n",
    "y_pred_svc_rbf_f = svc_rbf_f.predict(x_test_filtered)"
   ]
  },
  {
   "cell_type": "code",
   "execution_count": 87,
   "metadata": {},
   "outputs": [
    {
     "data": {
      "text/plain": [
       "0.8335"
      ]
     },
     "execution_count": 87,
     "metadata": {},
     "output_type": "execute_result"
    }
   ],
   "source": [
    "accuracy_score(y_test_filtered,y_pred_svc_rbf_f)"
   ]
  },
  {
   "cell_type": "code",
   "execution_count": 88,
   "metadata": {},
   "outputs": [
    {
     "data": {
      "text/plain": [
       "<sklearn.metrics._plot.confusion_matrix.ConfusionMatrixDisplay at 0x1f25ccbc310>"
      ]
     },
     "execution_count": 88,
     "metadata": {},
     "output_type": "execute_result"
    },
    {
     "data": {
      "image/png": "[encoded data removed]",
      "text/plain": [
       "<Figure size 432x288 with 2 Axes>"
      ]
     },
     "metadata": {
      "needs_background": "light"
     },
     "output_type": "display_data"
    }
   ],
   "source": [
    "cm=confusion_matrix(y_test_filtered,y_pred_svc_rbf_f)\n",
    "disp = ConfusionMatrixDisplay(confusion_matrix=cm)\n",
    "disp.plot()"
   ]
  },
  {
   "cell_type": "code",
   "execution_count": 89,
   "metadata": {},
   "outputs": [],
   "source": [
    "y_pred_proba_svc_rbf_f = svc_rbf_f.predict_proba(x_test_filtered)\n",
    "fpr_svc_rbf_f, tpr_svc_rbf_f, th_svc_rbf_f = roc_curve(y_test_filtered,  y_pred_proba_svc_rbf_f[:,1])"
   ]
  },
  {
   "cell_type": "code",
   "execution_count": 90,
   "metadata": {},
   "outputs": [
    {
     "name": "stderr",
     "output_type": "stream",
     "text": [
      "C:\\Users\\amria\\AppData\\Local\\Temp\\ipykernel_14924\\23348393.py:7: UserWarning: Matplotlib is currently using module://matplotlib_inline.backend_inline, which is a non-GUI backend, so cannot show the figure.\n",
      "  fig.show()\n"
     ]
    },
    {
     "data": {
      "image/png": "[encoded data removed]",
      "text/plain": [
       "<Figure size 432x288 with 1 Axes>"
      ]
     },
     "metadata": {
      "needs_background": "light"
     },
     "output_type": "display_data"
    }
   ],
   "source": [
    "plt.plot(fpr_svc_rbf_f,tpr_svc_rbf_f,label=svc_rbf_f.__class__.__name__+\"(rbf) (AUC = \"+str(round(roc_auc_score(y_test_filtered,  y_pred_proba_svc_rbf_f[:,1]),2))+\")\")\n",
    "plt.plot(fpr_knn_f,tpr_knn_f,label=knn_f.__class__.__name__+\"(19) (AUC = \"+str(round(roc_auc_score(y_test_filtered,  y_pred_proba_knn_f[:,1]),2))+\")\")\n",
    "plt.plot(fpr_lr_filtered,tpr_lr_filtered,label=lr_filtered.__class__.__name__+\" (AUC = \"+str(round(roc_auc_score(y_test_filtered,  y_pred_proba_lr_filtered[:,1]),2))+\")\")\n",
    "\n",
    "plt.legend(loc='lower right')\n",
    "\n",
    "fig.show()"
   ]
  },
  {
   "cell_type": "code",
   "execution_count": 91,
   "metadata": {},
   "outputs": [
    {
     "data": {
      "text/plain": [
       "0.837"
      ]
     },
     "execution_count": 91,
     "metadata": {},
     "output_type": "execute_result"
    }
   ],
   "source": [
    "dtc_f = DecisionTreeClassifier(max_depth=5)\n",
    "dtc_f.fit(x_train_filtered,y_train_filtered)\n",
    "y_pred_dtc_f = dtc_f.predict(x_test_filtered)\n",
    "accuracy_score(y_test_filtered,y_pred_dtc_f)"
   ]
  },
  {
   "cell_type": "code",
   "execution_count": 92,
   "metadata": {},
   "outputs": [
    {
     "data": {
      "text/plain": [
       "<sklearn.metrics._plot.confusion_matrix.ConfusionMatrixDisplay at 0x1f262df30a0>"
      ]
     },
     "execution_count": 92,
     "metadata": {},
     "output_type": "execute_result"
    },
    {
     "data": {
      "image/png": "[encoded data removed]",
      "text/plain": [
       "<Figure size 432x288 with 2 Axes>"
      ]
     },
     "metadata": {
      "needs_background": "light"
     },
     "output_type": "display_data"
    }
   ],
   "source": [
    "cm=confusion_matrix(y_test_filtered,y_pred_dtc_f)\n",
    "disp = ConfusionMatrixDisplay(confusion_matrix=cm)\n",
    "disp.plot()"
   ]
  },
  {
   "cell_type": "code",
   "execution_count": 93,
   "metadata": {},
   "outputs": [],
   "source": [
    "y_pred_proba_dtc_f = dtc_f.predict_proba(x_test_filtered)\n",
    "fpr_dtc_f, tpr_dtc_f, th_dtc_f = roc_curve(y_test_filtered,  y_pred_proba_dtc_f[:,1])"
   ]
  },
  {
   "cell_type": "code",
   "execution_count": 100,
   "metadata": {},
   "outputs": [
    {
     "data": {
      "text/plain": [
       "[Text(0.5482456140350878, 0.9166666666666666, 'X[0] <= 0.349\\ngini = 0.325\\nsamples = 8000\\nvalue = [6368, 1632]'),\n",
       " Text(0.2807017543859649, 0.75, 'X[4] <= 1.675\\ngini = 0.209\\nsamples = 5707\\nvalue = [5029, 678]'),\n",
       " Text(0.14035087719298245, 0.5833333333333334, 'X[4] <= -0.056\\ngini = 0.188\\nsamples = 5583\\nvalue = [4998, 585]'),\n",
       " Text(0.07017543859649122, 0.4166666666666667, 'X[0] <= -0.034\\ngini = 0.278\\nsamples = 2756\\nvalue = [2297, 459]'),\n",
       " Text(0.03508771929824561, 0.25, 'X[2] <= -0.295\\ngini = 0.236\\nsamples = 2128\\nvalue = [1837, 291]'),\n",
       " Text(0.017543859649122806, 0.08333333333333333, 'gini = 0.323\\nsamples = 366\\nvalue = [292, 74]'),\n",
       " Text(0.05263157894736842, 0.08333333333333333, 'gini = 0.216\\nsamples = 1762\\nvalue = [1545, 217]'),\n",
       " Text(0.10526315789473684, 0.25, 'X[3] <= -2.444\\ngini = 0.392\\nsamples = 628\\nvalue = [460, 168]'),\n",
       " Text(0.08771929824561403, 0.08333333333333333, 'gini = 0.0\\nsamples = 4\\nvalue = [0, 4]'),\n",
       " Text(0.12280701754385964, 0.08333333333333333, 'gini = 0.387\\nsamples = 624\\nvalue = [460, 164]'),\n",
       " Text(0.21052631578947367, 0.4166666666666667, 'X[2] <= -0.107\\ngini = 0.085\\nsamples = 2827\\nvalue = [2701, 126]'),\n",
       " Text(0.17543859649122806, 0.25, 'X[0] <= -0.321\\ngini = 0.044\\nsamples = 1703\\nvalue = [1665, 38]'),\n",
       " Text(0.15789473684210525, 0.08333333333333333, 'gini = 0.027\\nsamples = 1034\\nvalue = [1020, 14]'),\n",
       " Text(0.19298245614035087, 0.08333333333333333, 'gini = 0.069\\nsamples = 669\\nvalue = [645, 24]'),\n",
       " Text(0.24561403508771928, 0.25, 'X[2] <= 2.074\\ngini = 0.144\\nsamples = 1124\\nvalue = [1036, 88]'),\n",
       " Text(0.22807017543859648, 0.08333333333333333, 'gini = 0.14\\nsamples = 1120\\nvalue = [1035, 85]'),\n",
       " Text(0.2631578947368421, 0.08333333333333333, 'gini = 0.375\\nsamples = 4\\nvalue = [1, 3]'),\n",
       " Text(0.42105263157894735, 0.5833333333333334, 'X[2] <= -0.845\\ngini = 0.375\\nsamples = 124\\nvalue = [31, 93]'),\n",
       " Text(0.3508771929824561, 0.4166666666666667, 'X[1] <= 0.617\\ngini = 0.5\\nsamples = 50\\nvalue = [25, 25]'),\n",
       " Text(0.3157894736842105, 0.25, 'X[0] <= -0.608\\ngini = 0.461\\nsamples = 36\\nvalue = [23, 13]'),\n",
       " Text(0.2982456140350877, 0.08333333333333333, 'gini = 0.0\\nsamples = 11\\nvalue = [11, 0]'),\n",
       " Text(0.3333333333333333, 0.08333333333333333, 'gini = 0.499\\nsamples = 25\\nvalue = [12, 13]'),\n",
       " Text(0.38596491228070173, 0.25, 'X[3] <= 1.056\\ngini = 0.245\\nsamples = 14\\nvalue = [2, 12]'),\n",
       " Text(0.3684210526315789, 0.08333333333333333, 'gini = 0.142\\nsamples = 13\\nvalue = [1, 12]'),\n",
       " Text(0.40350877192982454, 0.08333333333333333, 'gini = 0.0\\nsamples = 1\\nvalue = [1, 0]'),\n",
       " Text(0.49122807017543857, 0.4166666666666667, 'X[1] <= 1.536\\ngini = 0.149\\nsamples = 74\\nvalue = [6, 68]'),\n",
       " Text(0.45614035087719296, 0.25, 'X[0] <= -0.321\\ngini = 0.106\\nsamples = 71\\nvalue = [4, 67]'),\n",
       " Text(0.43859649122807015, 0.08333333333333333, 'gini = 0.238\\nsamples = 29\\nvalue = [4, 25]'),\n",
       " Text(0.47368421052631576, 0.08333333333333333, 'gini = 0.0\\nsamples = 42\\nvalue = [0, 42]'),\n",
       " Text(0.5263157894736842, 0.25, 'X[2] <= 0.726\\ngini = 0.444\\nsamples = 3\\nvalue = [2, 1]'),\n",
       " Text(0.5087719298245614, 0.08333333333333333, 'gini = 0.0\\nsamples = 1\\nvalue = [1, 0]'),\n",
       " Text(0.543859649122807, 0.08333333333333333, 'gini = 0.5\\nsamples = 2\\nvalue = [1, 1]'),\n",
       " Text(0.8157894736842105, 0.75, 'X[4] <= 1.675\\ngini = 0.486\\nsamples = 2293\\nvalue = [1339, 954]'),\n",
       " Text(0.7017543859649122, 0.5833333333333334, 'X[4] <= -0.056\\ngini = 0.472\\nsamples = 2160\\nvalue = [1334, 826]'),\n",
       " Text(0.631578947368421, 0.4166666666666667, 'X[0] <= 2.55\\ngini = 0.499\\nsamples = 1283\\nvalue = [617, 666]'),\n",
       " Text(0.5964912280701754, 0.25, 'X[0] <= 0.54\\ngini = 0.495\\nsamples = 1174\\nvalue = [526, 648]'),\n",
       " Text(0.5789473684210527, 0.08333333333333333, 'gini = 0.477\\nsamples = 219\\nvalue = [133, 86]'),\n",
       " Text(0.6140350877192983, 0.08333333333333333, 'gini = 0.484\\nsamples = 955\\nvalue = [393, 562]'),\n",
       " Text(0.6666666666666666, 0.25, 'X[0] <= 2.837\\ngini = 0.276\\nsamples = 109\\nvalue = [91, 18]'),\n",
       " Text(0.6491228070175439, 0.08333333333333333, 'gini = 0.414\\nsamples = 41\\nvalue = [29, 12]'),\n",
       " Text(0.6842105263157895, 0.08333333333333333, 'gini = 0.161\\nsamples = 68\\nvalue = [62, 6]'),\n",
       " Text(0.7719298245614035, 0.4166666666666667, 'X[2] <= -0.538\\ngini = 0.298\\nsamples = 877\\nvalue = [717, 160]'),\n",
       " Text(0.7368421052631579, 0.25, 'X[3] <= -1.181\\ngini = 0.143\\nsamples = 466\\nvalue = [430, 36]'),\n",
       " Text(0.7192982456140351, 0.08333333333333333, 'gini = 0.282\\nsamples = 53\\nvalue = [44, 9]'),\n",
       " Text(0.7543859649122807, 0.08333333333333333, 'gini = 0.122\\nsamples = 413\\nvalue = [386, 27]'),\n",
       " Text(0.8070175438596491, 0.25, 'X[0] <= 0.732\\ngini = 0.421\\nsamples = 411\\nvalue = [287, 124]'),\n",
       " Text(0.7894736842105263, 0.08333333333333333, 'gini = 0.323\\nsamples = 153\\nvalue = [122, 31]'),\n",
       " Text(0.8245614035087719, 0.08333333333333333, 'gini = 0.461\\nsamples = 258\\nvalue = [165, 93]'),\n",
       " Text(0.9298245614035088, 0.5833333333333334, 'X[0] <= 2.598\\ngini = 0.072\\nsamples = 133\\nvalue = [5, 128]'),\n",
       " Text(0.8947368421052632, 0.4166666666666667, 'X[1] <= -0.583\\ngini = 0.016\\nsamples = 126\\nvalue = [1, 125]'),\n",
       " Text(0.8771929824561403, 0.25, 'X[1] <= -0.587\\ngini = 0.061\\nsamples = 32\\nvalue = [1, 31]'),\n",
       " Text(0.8596491228070176, 0.08333333333333333, 'gini = 0.0\\nsamples = 31\\nvalue = [0, 31]'),\n",
       " Text(0.8947368421052632, 0.08333333333333333, 'gini = 0.0\\nsamples = 1\\nvalue = [1, 0]'),\n",
       " Text(0.9122807017543859, 0.25, 'gini = 0.0\\nsamples = 94\\nvalue = [0, 94]'),\n",
       " Text(0.9649122807017544, 0.4166666666666667, 'X[2] <= -0.528\\ngini = 0.49\\nsamples = 7\\nvalue = [4, 3]'),\n",
       " Text(0.9473684210526315, 0.25, 'gini = 0.0\\nsamples = 4\\nvalue = [4, 0]'),\n",
       " Text(0.9824561403508771, 0.25, 'gini = 0.0\\nsamples = 3\\nvalue = [0, 3]')]"
      ]
     },
     "execution_count": 100,
     "metadata": {},
     "output_type": "execute_result"
    },
    {
     "data": {
      "image/png": "[encoded data removed]",
      "text/plain": [
       "<Figure size 1440x720 with 1 Axes>"
      ]
     },
     "metadata": {
      "needs_background": "light"
     },
     "output_type": "display_data"
    }
   ],
   "source": [
    "from sklearn.tree import export_graphviz\n",
    "from sklearn import tree\n",
    "tree.export_graphviz(dtc_f, out_file='treef.dot', feature_names = x_test_filtered.columns,class_names =[\"0\",\"1\"])\n",
    "plt.figure(figsize=(20,10))\n",
    "tree.plot_tree(dtc_f)\n"
   ]
  },
  {
   "cell_type": "code",
   "execution_count": 94,
   "metadata": {},
   "outputs": [
    {
     "name": "stderr",
     "output_type": "stream",
     "text": [
      "C:\\Users\\amria\\AppData\\Local\\Temp\\ipykernel_14924\\288288661.py:8: UserWarning: Matplotlib is currently using module://matplotlib_inline.backend_inline, which is a non-GUI backend, so cannot show the figure.\n",
      "  fig.show()\n"
     ]
    },
    {
     "data": {
      "image/png": "[encoded data removed]",
      "text/plain": [
       "<Figure size 432x288 with 1 Axes>"
      ]
     },
     "metadata": {
      "needs_background": "light"
     },
     "output_type": "display_data"
    }
   ],
   "source": [
    "\n",
    "\n",
    "plt.plot(fpr_dtc_f,tpr_dtc_f,label=dtc_f.__class__.__name__+\"(5) (AUC = \"+str(round(roc_auc_score(y_test_filtered,  y_pred_proba_dtc_f[:,1]),2))+\")\")\n",
    "plt.plot(fpr_svc_rbf_f,tpr_svc_rbf_f,label=svc_rbf_f.__class__.__name__+\"(rbf) (AUC = \"+str(round(roc_auc_score(y_test_filtered,  y_pred_proba_svc_rbf_f[:,1]),2))+\")\")\n",
    "plt.plot(fpr_knn_f,tpr_knn_f,label=knn_f.__class__.__name__+\"(19) (AUC = \"+str(round(roc_auc_score(y_test_filtered,  y_pred_proba_knn_f[:,1]),2))+\")\")\n",
    "plt.plot(fpr_lr_filtered,tpr_lr_filtered,label=lr_filtered.__class__.__name__+\" (AUC = \"+str(round(roc_auc_score(y_test_filtered,  y_pred_proba_lr_filtered[:,1]),2))+\")\")\n",
    "\n",
    "plt.legend(loc='lower right')\n",
    "\n",
    "fig.show()"
   ]
  },
  {
   "cell_type": "code",
   "execution_count": 95,
   "metadata": {},
   "outputs": [
    {
     "name": "stderr",
     "output_type": "stream",
     "text": [
      "C:\\Users\\amria\\AppData\\Local\\Temp\\ipykernel_14924\\3529350183.py:2: DataConversionWarning: A column-vector y was passed when a 1d array was expected. Please change the shape of y to (n_samples,), for example using ravel().\n",
      "  rfc_f.fit(x_train_filtered,y_train_filtered)\n"
     ]
    },
    {
     "data": {
      "text/plain": [
       "0.8305"
      ]
     },
     "execution_count": 95,
     "metadata": {},
     "output_type": "execute_result"
    }
   ],
   "source": [
    "rfc_f = RandomForestClassifier(500)\n",
    "rfc_f.fit(x_train_filtered,y_train_filtered)\n",
    "y_pred_rfc_f = rfc_f.predict(x_test_filtered)\n",
    "accuracy_score(y_test_filtered,y_pred_rfc_f)"
   ]
  },
  {
   "cell_type": "code",
   "execution_count": 96,
   "metadata": {},
   "outputs": [
    {
     "data": {
      "text/plain": [
       "<sklearn.metrics._plot.confusion_matrix.ConfusionMatrixDisplay at 0x1f262ece080>"
      ]
     },
     "execution_count": 96,
     "metadata": {},
     "output_type": "execute_result"
    },
    {
     "data": {
      "image/png": "[encoded data removed]",
      "text/plain": [
       "<Figure size 432x288 with 2 Axes>"
      ]
     },
     "metadata": {
      "needs_background": "light"
     },
     "output_type": "display_data"
    }
   ],
   "source": [
    "cm=confusion_matrix(y_test_filtered,y_pred_rfc_f)\n",
    "disp = ConfusionMatrixDisplay(confusion_matrix=cm)\n",
    "disp.plot()"
   ]
  },
  {
   "cell_type": "code",
   "execution_count": 97,
   "metadata": {},
   "outputs": [],
   "source": [
    "y_pred_proba_rfc_f = rfc_f.predict_proba(x_test_filtered)\n",
    "fpr_rfc_f, tpr_rfc_f, th_rfc_f = roc_curve(y_test_filtered,  y_pred_proba_rfc_f[:,1])"
   ]
  },
  {
   "cell_type": "code",
   "execution_count": 98,
   "metadata": {},
   "outputs": [
    {
     "name": "stderr",
     "output_type": "stream",
     "text": [
      "C:\\Users\\amria\\AppData\\Local\\Temp\\ipykernel_14924\\1117944362.py:9: UserWarning: Matplotlib is currently using module://matplotlib_inline.backend_inline, which is a non-GUI backend, so cannot show the figure.\n",
      "  fig.show()\n"
     ]
    },
    {
     "data": {
      "image/png": "[encoded data removed]",
      "text/plain": [
       "<Figure size 432x288 with 1 Axes>"
      ]
     },
     "metadata": {
      "needs_background": "light"
     },
     "output_type": "display_data"
    }
   ],
   "source": [
    "\n",
    "\n",
    "plt.plot(fpr_rfc_f,tpr_rfc_f,label=rfc_f.__class__.__name__+\"(500) (AUC = \"+str(round(roc_auc_score(y_test_filtered,  y_pred_proba_rfc_f[:,1]),2))+\")\")\n",
    "plt.plot(fpr_dtc_f,tpr_dtc_f,label=dtc_f.__class__.__name__+\"(5) (AUC = \"+str(round(roc_auc_score(y_test_filtered,  y_pred_proba_dtc_f[:,1]),2))+\")\")\n",
    "plt.plot(fpr_svc_rbf_f,tpr_svc_rbf_f,label=svc_rbf_f.__class__.__name__+\"(rbf) (AUC = \"+str(round(roc_auc_score(y_test_filtered,  y_pred_proba_svc_rbf_f[:,1]),2))+\")\")\n",
    "plt.plot(fpr_knn_f,tpr_knn_f,label=knn_f.__class__.__name__+\"(19) (AUC = \"+str(round(roc_auc_score(y_test_filtered,  y_pred_proba_knn_f[:,1]),2))+\")\")\n",
    "plt.plot(fpr_lr_filtered,tpr_lr_filtered,label=lr_filtered.__class__.__name__+\" (AUC = \"+str(round(roc_auc_score(y_test_filtered,  y_pred_proba_lr_filtered[:,1]),2))+\")\")\n",
    "\n",
    "plt.legend(loc='lower right')\n",
    "\n",
    "fig.show()"
   ]
  },
  {
   "cell_type": "code",
   "execution_count": 99,
   "metadata": {},
   "outputs": [
    {
     "data": {
      "text/plain": [
       "Text(0.5, 0, 'Random Forest Feature Importance')"
      ]
     },
     "execution_count": 99,
     "metadata": {},
     "output_type": "execute_result"
    },
    {
     "data": {
      "image/png": "[encoded data removed]",
      "text/plain": [
       "<Figure size 432x288 with 1 Axes>"
      ]
     },
     "metadata": {
      "needs_background": "light"
     },
     "output_type": "display_data"
    }
   ],
   "source": [
    "sorted_idx = rfc_f.feature_importances_.argsort()\n",
    "plt.barh(rfc_f.feature_names_in_[sorted_idx], rfc_f.feature_importances_[sorted_idx])\n",
    "plt.xlabel(\"Random Forest Feature Importance\")"
   ]
  },
  {
   "cell_type": "markdown",
   "metadata": {},
   "source": [
    "les valeurs d'AUC a eté diminuer un peut a cause de l'absence des 6 features admet importance < 0.1. <br/>\n",
    "aussi l'accuracy a eté affecté negativement. <br/>\n",
    "on peut accepter toutes les modeles si on utilise toutes les features.<br/> avec 5 features seulement le modele Logistic Regression est refusé car accuracy < 0.8."
   ]
  }
 ],
 "metadata": {
  "kernelspec": {
   "display_name": "Python 3.10.8 64-bit",
   "language": "python",
   "name": "python3"
  },
  "language_info": {
   "codemirror_mode": {
    "name": "ipython",
    "version": 3
   },
   "file_extension": ".py",
   "mimetype": "text/x-python",
   "name": "python",
   "nbconvert_exporter": "python",
   "pygments_lexer": "ipython3",
   "version": "3.10.8"
  },
  "orig_nbformat": 4,
  "vscode": {
   "interpreter": {
    "hash": "02f233c1bb37aa2433c299d2e4f8365f47568f469376a90e5e6d4408f23a3bd4"
   }
  }
 },
 "nbformat": 4,
 "nbformat_minor": 2
}
